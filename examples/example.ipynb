{
 "cells": [
  {
   "cell_type": "markdown",
   "id": "d4192aa6-0b7c-4575-bc76-c6c3dbbd3802",
   "metadata": {
    "jp-MarkdownHeadingCollapsed": true,
    "tags": []
   },
   "source": [
    "## Linear Regression"
   ]
  },
  {
   "cell_type": "markdown",
   "id": "23ee9efb-752f-4c77-a5e6-85ec1d62151c",
   "metadata": {
    "jp-MarkdownHeadingCollapsed": true,
    "tags": []
   },
   "source": [
    "### Pure Python Code"
   ]
  },
  {
   "cell_type": "code",
   "execution_count": 1,
   "id": "4ca2d511-02b2-4968-888b-b23045ef4f1f",
   "metadata": {
    "tags": []
   },
   "outputs": [
    {
     "data": {
      "text/html": [
       "<div>\n",
       "<style scoped>\n",
       "    .dataframe tbody tr th:only-of-type {\n",
       "        vertical-align: middle;\n",
       "    }\n",
       "\n",
       "    .dataframe tbody tr th {\n",
       "        vertical-align: top;\n",
       "    }\n",
       "\n",
       "    .dataframe thead th {\n",
       "        text-align: right;\n",
       "    }\n",
       "</style>\n",
       "<table border=\"1\" class=\"dataframe\">\n",
       "  <thead>\n",
       "    <tr style=\"text-align: right;\">\n",
       "      <th></th>\n",
       "      <th>longitude</th>\n",
       "      <th>latitude</th>\n",
       "      <th>housing_median_age</th>\n",
       "      <th>total_rooms</th>\n",
       "      <th>total_bedrooms</th>\n",
       "      <th>population</th>\n",
       "      <th>households</th>\n",
       "      <th>median_income</th>\n",
       "      <th>median_house_value</th>\n",
       "    </tr>\n",
       "  </thead>\n",
       "  <tbody>\n",
       "    <tr>\n",
       "      <th>count</th>\n",
       "      <td>20640.000000</td>\n",
       "      <td>20640.000000</td>\n",
       "      <td>20640.000000</td>\n",
       "      <td>20640.000000</td>\n",
       "      <td>20433.000000</td>\n",
       "      <td>20640.000000</td>\n",
       "      <td>20640.000000</td>\n",
       "      <td>20640.000000</td>\n",
       "      <td>20640.000000</td>\n",
       "    </tr>\n",
       "    <tr>\n",
       "      <th>mean</th>\n",
       "      <td>-119.569704</td>\n",
       "      <td>35.631861</td>\n",
       "      <td>28.639486</td>\n",
       "      <td>2635.763081</td>\n",
       "      <td>537.870553</td>\n",
       "      <td>1425.476744</td>\n",
       "      <td>499.539680</td>\n",
       "      <td>3.870671</td>\n",
       "      <td>206855.816909</td>\n",
       "    </tr>\n",
       "    <tr>\n",
       "      <th>std</th>\n",
       "      <td>2.003532</td>\n",
       "      <td>2.135952</td>\n",
       "      <td>12.585558</td>\n",
       "      <td>2181.615252</td>\n",
       "      <td>421.385070</td>\n",
       "      <td>1132.462122</td>\n",
       "      <td>382.329753</td>\n",
       "      <td>1.899822</td>\n",
       "      <td>115395.615874</td>\n",
       "    </tr>\n",
       "    <tr>\n",
       "      <th>min</th>\n",
       "      <td>-124.350000</td>\n",
       "      <td>32.540000</td>\n",
       "      <td>1.000000</td>\n",
       "      <td>2.000000</td>\n",
       "      <td>1.000000</td>\n",
       "      <td>3.000000</td>\n",
       "      <td>1.000000</td>\n",
       "      <td>0.499900</td>\n",
       "      <td>14999.000000</td>\n",
       "    </tr>\n",
       "    <tr>\n",
       "      <th>25%</th>\n",
       "      <td>-121.800000</td>\n",
       "      <td>33.930000</td>\n",
       "      <td>18.000000</td>\n",
       "      <td>1447.750000</td>\n",
       "      <td>296.000000</td>\n",
       "      <td>787.000000</td>\n",
       "      <td>280.000000</td>\n",
       "      <td>2.563400</td>\n",
       "      <td>119600.000000</td>\n",
       "    </tr>\n",
       "    <tr>\n",
       "      <th>50%</th>\n",
       "      <td>-118.490000</td>\n",
       "      <td>34.260000</td>\n",
       "      <td>29.000000</td>\n",
       "      <td>2127.000000</td>\n",
       "      <td>435.000000</td>\n",
       "      <td>1166.000000</td>\n",
       "      <td>409.000000</td>\n",
       "      <td>3.534800</td>\n",
       "      <td>179700.000000</td>\n",
       "    </tr>\n",
       "    <tr>\n",
       "      <th>75%</th>\n",
       "      <td>-118.010000</td>\n",
       "      <td>37.710000</td>\n",
       "      <td>37.000000</td>\n",
       "      <td>3148.000000</td>\n",
       "      <td>647.000000</td>\n",
       "      <td>1725.000000</td>\n",
       "      <td>605.000000</td>\n",
       "      <td>4.743250</td>\n",
       "      <td>264725.000000</td>\n",
       "    </tr>\n",
       "    <tr>\n",
       "      <th>max</th>\n",
       "      <td>-114.310000</td>\n",
       "      <td>41.950000</td>\n",
       "      <td>52.000000</td>\n",
       "      <td>39320.000000</td>\n",
       "      <td>6445.000000</td>\n",
       "      <td>35682.000000</td>\n",
       "      <td>6082.000000</td>\n",
       "      <td>15.000100</td>\n",
       "      <td>500001.000000</td>\n",
       "    </tr>\n",
       "  </tbody>\n",
       "</table>\n",
       "</div>"
      ],
      "text/plain": [
       "          longitude      latitude  housing_median_age   total_rooms  \\\n",
       "count  20640.000000  20640.000000        20640.000000  20640.000000   \n",
       "mean    -119.569704     35.631861           28.639486   2635.763081   \n",
       "std        2.003532      2.135952           12.585558   2181.615252   \n",
       "min     -124.350000     32.540000            1.000000      2.000000   \n",
       "25%     -121.800000     33.930000           18.000000   1447.750000   \n",
       "50%     -118.490000     34.260000           29.000000   2127.000000   \n",
       "75%     -118.010000     37.710000           37.000000   3148.000000   \n",
       "max     -114.310000     41.950000           52.000000  39320.000000   \n",
       "\n",
       "       total_bedrooms    population    households  median_income  \\\n",
       "count    20433.000000  20640.000000  20640.000000   20640.000000   \n",
       "mean       537.870553   1425.476744    499.539680       3.870671   \n",
       "std        421.385070   1132.462122    382.329753       1.899822   \n",
       "min          1.000000      3.000000      1.000000       0.499900   \n",
       "25%        296.000000    787.000000    280.000000       2.563400   \n",
       "50%        435.000000   1166.000000    409.000000       3.534800   \n",
       "75%        647.000000   1725.000000    605.000000       4.743250   \n",
       "max       6445.000000  35682.000000   6082.000000      15.000100   \n",
       "\n",
       "       median_house_value  \n",
       "count        20640.000000  \n",
       "mean        206855.816909  \n",
       "std         115395.615874  \n",
       "min          14999.000000  \n",
       "25%         119600.000000  \n",
       "50%         179700.000000  \n",
       "75%         264725.000000  \n",
       "max         500001.000000  "
      ]
     },
     "execution_count": 1,
     "metadata": {},
     "output_type": "execute_result"
    }
   ],
   "source": [
    "import pandas as pd\n",
    "df = pd.read_csv(\"california_housing.csv\")\n",
    "df.describe()"
   ]
  },
  {
   "cell_type": "code",
   "execution_count": 10,
   "id": "cd90a968-6e97-44ba-94ef-24db9ef59678",
   "metadata": {
    "tags": []
   },
   "outputs": [
    {
     "name": "stdout",
     "output_type": "stream",
     "text": [
      "                            OLS Regression Results                            \n",
      "==============================================================================\n",
      "Dep. Variable:     median_house_value   R-squared:                       0.474\n",
      "Model:                            OLS   Adj. R-squared:                  0.474\n",
      "Method:                 Least Squares   F-statistic:                 1.840e+04\n",
      "Date:                Fri, 15 Mar 2024   Prob (F-statistic):               0.00\n",
      "Time:                        19:56:34   Log-Likelihood:            -2.6061e+05\n",
      "No. Observations:               20433   AIC:                         5.212e+05\n",
      "Df Residuals:                   20431   BIC:                         5.212e+05\n",
      "Df Model:                           1                                         \n",
      "Covariance Type:            nonrobust                                         \n",
      "=================================================================================\n",
      "                    coef    std err          t      P>|t|      [0.025      0.975]\n",
      "---------------------------------------------------------------------------------\n",
      "const          4.491e+04   1329.965     33.765      0.000    4.23e+04    4.75e+04\n",
      "median_income  4.184e+04    308.436    135.643      0.000    4.12e+04    4.24e+04\n",
      "==============================================================================\n",
      "Omnibus:                     4218.606   Durbin-Watson:                   0.656\n",
      "Prob(Omnibus):                  0.000   Jarque-Bera (JB):             9243.818\n",
      "Skew:                           1.194   Prob(JB):                         0.00\n",
      "Kurtosis:                       5.271   Cond. No.                         10.2\n",
      "==============================================================================\n",
      "\n",
      "Notes:\n",
      "[1] Standard Errors assume that the covariance matrix of the errors is correctly specified.\n"
     ]
    }
   ],
   "source": [
    "import statsmodels.api as sm\n",
    "\n",
    "df = df.dropna()\n",
    "X = sm.add_constant(df[\"median_income\"])\n",
    "y = df[\"median_house_value\"]\n",
    "model = sm.OLS(y, X)\n",
    "results = model.fit()\n",
    "print(results.summary())"
   ]
  },
  {
   "cell_type": "code",
   "execution_count": 11,
   "id": "8296224a-bb24-4bd4-9fec-48cd8a1d371f",
   "metadata": {
    "tags": []
   },
   "outputs": [
    {
     "name": "stdout",
     "output_type": "stream",
     "text": [
      "                            OLS Regression Results                            \n",
      "==============================================================================\n",
      "Dep. Variable:     median_house_value   R-squared:                       0.514\n",
      "Model:                            OLS   Adj. R-squared:                  0.513\n",
      "Method:                 Least Squares   F-statistic:                     5391.\n",
      "Date:                Fri, 15 Mar 2024   Prob (F-statistic):               0.00\n",
      "Time:                        20:02:03   Log-Likelihood:            -2.5981e+05\n",
      "No. Observations:               20433   AIC:                         5.196e+05\n",
      "Df Residuals:                   20428   BIC:                         5.197e+05\n",
      "Df Model:                           4                                         \n",
      "Covariance Type:            nonrobust                                         \n",
      "======================================================================================\n",
      "                         coef    std err          t      P>|t|      [0.025      0.975]\n",
      "--------------------------------------------------------------------------------------\n",
      "const               1320.6490   1769.446      0.746      0.455   -2147.607    4788.905\n",
      "median_income       5.125e+04    399.273    128.370      0.000    5.05e+04     5.2e+04\n",
      "avg_rooms          -5.226e+04   1542.166    -33.890      0.000   -5.53e+04   -4.92e+04\n",
      "avg_bedrooms         2.77e+05   7092.315     39.058      0.000    2.63e+05    2.91e+05\n",
      "avg_household_size  -386.9995     54.075     -7.157      0.000    -492.991    -281.009\n",
      "==============================================================================\n",
      "Omnibus:                     3891.726   Durbin-Watson:                   0.838\n",
      "Prob(Omnibus):                  0.000   Jarque-Bera (JB):            21797.749\n",
      "Skew:                           0.803   Prob(JB):                         0.00\n",
      "Kurtosis:                       7.798   Cond. No.                         142.\n",
      "==============================================================================\n",
      "\n",
      "Notes:\n",
      "[1] Standard Errors assume that the covariance matrix of the errors is correctly specified.\n"
     ]
    }
   ],
   "source": [
    "df[\"avg_rooms\"] = df[\"total_rooms\"]/df[\"population\"]\n",
    "df[\"avg_bedrooms\"] = df[\"total_bedrooms\"]/df[\"population\"]\n",
    "df[\"avg_household_size\"] = df[\"population\"]/df[\"households\"]\n",
    "\n",
    "X = sm.add_constant(df[[\"median_income\",\"avg_rooms\",\\\n",
    "                        \"avg_bedrooms\",\"avg_household_size\"]])\n",
    "y = df[\"median_house_value\"]\n",
    "model = sm.OLS(y, X)\n",
    "results = model.fit()\n",
    "print(results.summary())"
   ]
  },
  {
   "cell_type": "code",
   "execution_count": 13,
   "id": "3059b9b8-0b57-4fde-b1ad-1b1dfb4a2196",
   "metadata": {
    "tags": []
   },
   "outputs": [
    {
     "name": "stdout",
     "output_type": "stream",
     "text": [
      "                            OLS Regression Results                            \n",
      "==============================================================================\n",
      "Dep. Variable:     median_house_value   R-squared:                       0.486\n",
      "Model:                            OLS   Adj. R-squared:                  0.486\n",
      "Method:                 Least Squares   F-statistic:                     6443.\n",
      "Date:                Fri, 15 Mar 2024   Prob (F-statistic):               0.00\n",
      "Time:                        20:10:05   Log-Likelihood:            -2.6037e+05\n",
      "No. Observations:               20433   AIC:                         5.207e+05\n",
      "Df Residuals:                   20429   BIC:                         5.208e+05\n",
      "Df Model:                           3                                         \n",
      "Covariance Type:            nonrobust                                         \n",
      "======================================================================================\n",
      "                         coef    std err          t      P>|t|      [0.025      0.975]\n",
      "--------------------------------------------------------------------------------------\n",
      "const               2.438e+04   1678.707     14.520      0.000    2.11e+04    2.77e+04\n",
      "median_income       4.221e+04    305.286    138.274      0.000    4.16e+04    4.28e+04\n",
      "avg_bedrooms         4.99e+04   2386.719     20.908      0.000    4.52e+04    5.46e+04\n",
      "avg_household_size  -341.6500     55.556     -6.150      0.000    -450.544    -232.756\n",
      "==============================================================================\n",
      "Omnibus:                     3799.693   Durbin-Watson:                   0.672\n",
      "Prob(Omnibus):                  0.000   Jarque-Bera (JB):             9466.602\n",
      "Skew:                           1.033   Prob(JB):                         0.00\n",
      "Kurtosis:                       5.618   Cond. No.                         50.5\n",
      "==============================================================================\n",
      "\n",
      "Notes:\n",
      "[1] Standard Errors assume that the covariance matrix of the errors is correctly specified.\n"
     ]
    }
   ],
   "source": [
    "import statsmodels.api as sm\n",
    "\n",
    "X = sm.add_constant(df[[\"median_income\",\"avg_bedrooms\",\"avg_household_size\"]])\n",
    "y = df[\"median_house_value\"]\n",
    "model = sm.OLS(y, X)\n",
    "results = model.fit()\n",
    "print(results.summary())"
   ]
  },
  {
   "cell_type": "markdown",
   "id": "6fdc8776-ea0d-468a-a914-0f4984f4bef2",
   "metadata": {
    "jp-MarkdownHeadingCollapsed": true,
    "tags": []
   },
   "source": [
    "### GuidedStats"
   ]
  },
  {
   "cell_type": "code",
   "execution_count": 2,
   "id": "283c18c4-14a0-44ae-a44e-28f2d0e7a073",
   "metadata": {
    "tags": []
   },
   "outputs": [
    {
     "data": {
      "application/vnd.jupyter.widget-view+json": {
       "model_id": "51489d06a07843068a8cea00b99f3d91",
       "version_major": 2,
       "version_minor": 0
      },
      "text/plain": [
       "GuidedStats(builtinAssumptions=['Outliers Checking', 'Levene Test', 'Normality Test', 'Multicollinearity Test'…"
      ]
     },
     "execution_count": 2,
     "metadata": {},
     "output_type": "execute_result"
    }
   ],
   "source": [
    "from guidedstats import GuidedStats\n",
    "import pandas as pd\n",
    "\n",
    "df = pd.read_csv(\"california_housing.csv\")\n",
    "gs = GuidedStats(df)\n",
    "gs"
   ]
  },
  {
   "cell_type": "code",
   "execution_count": 3,
   "id": "77c9daad-227f-4770-9726-b7fd73ae1c99",
   "metadata": {
    "tags": []
   },
   "outputs": [],
   "source": [
    "dataset = gs.export(\"dataset\")\n",
    "dataset = dataset[dataset[\"median_house_value\"] != 500001]\n",
    "gs._import(\"dataset\",dataset)"
   ]
  },
  {
   "cell_type": "code",
   "execution_count": 3,
   "id": "e9413197-2b78-436e-b5c0-a4a98531d305",
   "metadata": {
    "tags": []
   },
   "outputs": [],
   "source": [
    "dataset = gs.export(\"dataset\")\n",
    "dataset = dataset.dropna()\n",
    "gs._import(\"dataset\",dataset)"
   ]
  },
  {
   "cell_type": "code",
   "execution_count": 4,
   "id": "831f3ad8-98c9-441c-b160-fae7e1811e22",
   "metadata": {
    "tags": []
   },
   "outputs": [
    {
     "name": "stderr",
     "output_type": "stream",
     "text": [
      "/var/folders/fx/94vx28g17c9172vwjsxbmsk80000gn/T/ipykernel_49849/1570035262.py:2: SettingWithCopyWarning: \n",
      "A value is trying to be set on a copy of a slice from a DataFrame.\n",
      "Try using .loc[row_indexer,col_indexer] = value instead\n",
      "\n",
      "See the caveats in the documentation: https://pandas.pydata.org/pandas-docs/stable/user_guide/indexing.html#returning-a-view-versus-a-copy\n",
      "  dataset[\"avg_rooms\"] = dataset[\"total_rooms\"]/dataset[\"population\"]\n",
      "/var/folders/fx/94vx28g17c9172vwjsxbmsk80000gn/T/ipykernel_49849/1570035262.py:3: SettingWithCopyWarning: \n",
      "A value is trying to be set on a copy of a slice from a DataFrame.\n",
      "Try using .loc[row_indexer,col_indexer] = value instead\n",
      "\n",
      "See the caveats in the documentation: https://pandas.pydata.org/pandas-docs/stable/user_guide/indexing.html#returning-a-view-versus-a-copy\n",
      "  dataset[\"avg_bedrooms\"] = dataset[\"total_bedrooms\"]/dataset[\"population\"]\n"
     ]
    }
   ],
   "source": [
    "dataset = gs.export(\"dataset\")\n",
    "dataset[\"avg_rooms\"] = dataset[\"total_rooms\"]/dataset[\"population\"]\n",
    "dataset[\"avg_bedrooms\"] = dataset[\"total_bedrooms\"]/dataset[\"population\"]\n",
    "gs._import(\"dataset\",dataset)"
   ]
  },
  {
   "cell_type": "code",
   "execution_count": 14,
   "id": "ecb902bc-aacb-4f61-aeee-fbccf30021ac",
   "metadata": {
    "tags": []
   },
   "outputs": [],
   "source": [
    "model1 = b.export(\"model\")"
   ]
  },
  {
   "cell_type": "code",
   "execution_count": 15,
   "id": "476aecec-a79a-40d0-b0b0-f6c28560156a",
   "metadata": {
    "tags": []
   },
   "outputs": [],
   "source": [
    "model2 = b.export(\"model\")"
   ]
  },
  {
   "cell_type": "code",
   "execution_count": 16,
   "id": "695481bd-e2b4-46d7-a602-5960a8cc8eab",
   "metadata": {
    "tags": []
   },
   "outputs": [
    {
     "data": {
      "text/html": [
       "<style type=\"text/css\">\n",
       "#T_fbd3a th {\n",
       "  font-size: 12pt;\n",
       "  text-align: center;\n",
       "  border-style: solid;\n",
       "  border-width: 1px;\n",
       "}\n",
       "#T_fbd3a td {\n",
       "  text-align: right;\n",
       "  border-style: solid;\n",
       "  border-width: 1px;\n",
       "}\n",
       "#T_fbd3a_row0_col0, #T_fbd3a_row1_col0, #T_fbd3a_row2_col0, #T_fbd3a_row3_col0, #T_fbd3a_row4_col0, #T_fbd3a_row5_col0, #T_fbd3a_row6_col0, #T_fbd3a_row7_col0, #T_fbd3a_row8_col0 {\n",
       "  text-align: left;\n",
       "  font-weight: bold;\n",
       "}\n",
       "#T_fbd3a_row0_col1, #T_fbd3a_row0_col2, #T_fbd3a_row1_col1, #T_fbd3a_row1_col2, #T_fbd3a_row2_col1, #T_fbd3a_row2_col2, #T_fbd3a_row3_col1, #T_fbd3a_row3_col2, #T_fbd3a_row4_col1, #T_fbd3a_row4_col2, #T_fbd3a_row5_col1, #T_fbd3a_row5_col2, #T_fbd3a_row6_col1, #T_fbd3a_row6_col2 {\n",
       "  text-align: right;\n",
       "}\n",
       "#T_fbd3a_row7_col1, #T_fbd3a_row7_col2, #T_fbd3a_row8_col1, #T_fbd3a_row8_col2 {\n",
       "  font-weight: bold;\n",
       "  text-align: right;\n",
       "}\n",
       "</style>\n",
       "<table id=\"T_fbd3a\">\n",
       "  <caption>Model Comparison</caption>\n",
       "  <thead>\n",
       "    <tr>\n",
       "      <th id=\"T_fbd3a_level0_col0\" class=\"col_heading level0 col0\" >Metric</th>\n",
       "      <th id=\"T_fbd3a_level0_col1\" class=\"col_heading level0 col1\" >Model 1</th>\n",
       "      <th id=\"T_fbd3a_level0_col2\" class=\"col_heading level0 col2\" >Model 2</th>\n",
       "    </tr>\n",
       "  </thead>\n",
       "  <tbody>\n",
       "    <tr>\n",
       "      <td id=\"T_fbd3a_row0_col0\" class=\"data row0 col0\" >R-squared</td>\n",
       "      <td id=\"T_fbd3a_row0_col1\" class=\"data row0 col1\" >0.4738</td>\n",
       "      <td id=\"T_fbd3a_row0_col2\" class=\"data row0 col2\" >0.4153</td>\n",
       "    </tr>\n",
       "    <tr>\n",
       "      <td id=\"T_fbd3a_row1_col0\" class=\"data row1 col0\" >Adjusted R-squared</td>\n",
       "      <td id=\"T_fbd3a_row1_col1\" class=\"data row1 col1\" >0.4738</td>\n",
       "      <td id=\"T_fbd3a_row1_col2\" class=\"data row1 col2\" >0.4152</td>\n",
       "    </tr>\n",
       "    <tr>\n",
       "      <td id=\"T_fbd3a_row2_col0\" class=\"data row2 col0\" >F-statistic</td>\n",
       "      <td id=\"T_fbd3a_row2_col1\" class=\"data row2 col1\" >18398.8964</td>\n",
       "      <td id=\"T_fbd3a_row2_col2\" class=\"data row2 col2\" >13753.9141</td>\n",
       "    </tr>\n",
       "    <tr>\n",
       "      <td id=\"T_fbd3a_row3_col0\" class=\"data row3 col0\" >Prob (F-statistic)</td>\n",
       "      <td id=\"T_fbd3a_row3_col1\" class=\"data row3 col1\" >0.0000</td>\n",
       "      <td id=\"T_fbd3a_row3_col2\" class=\"data row3 col2\" >0.0000</td>\n",
       "    </tr>\n",
       "    <tr>\n",
       "      <td id=\"T_fbd3a_row4_col0\" class=\"data row4 col0\" >Log-Likelihood</td>\n",
       "      <td id=\"T_fbd3a_row4_col1\" class=\"data row4 col1\" >-260608.9012</td>\n",
       "      <td id=\"T_fbd3a_row4_col2\" class=\"data row4 col2\" >-244369.0102</td>\n",
       "    </tr>\n",
       "    <tr>\n",
       "      <td id=\"T_fbd3a_row5_col0\" class=\"data row5 col0\" >AIC</td>\n",
       "      <td id=\"T_fbd3a_row5_col1\" class=\"data row5 col1\" >521221.8025</td>\n",
       "      <td id=\"T_fbd3a_row5_col2\" class=\"data row5 col2\" >488742.0205</td>\n",
       "    </tr>\n",
       "    <tr>\n",
       "      <td id=\"T_fbd3a_row6_col0\" class=\"data row6 col0\" >BIC</td>\n",
       "      <td id=\"T_fbd3a_row6_col1\" class=\"data row6 col1\" >521237.6523</td>\n",
       "      <td id=\"T_fbd3a_row6_col2\" class=\"data row6 col2\" >488757.7633</td>\n",
       "    </tr>\n",
       "    <tr>\n",
       "      <td id=\"T_fbd3a_row7_col0\" class=\"data row7 col0\" >Coefficient (median_income)</td>\n",
       "      <td id=\"T_fbd3a_row7_col1\" class=\"data row7 col1\" >41837.0661***</td>\n",
       "      <td id=\"T_fbd3a_row7_col2\" class=\"data row7 col2\" >39491.7767***</td>\n",
       "    </tr>\n",
       "    <tr>\n",
       "      <td id=\"T_fbd3a_row8_col0\" class=\"data row8 col0\" >Coefficient (const)</td>\n",
       "      <td id=\"T_fbd3a_row8_col1\" class=\"data row8 col1\" >44906.3695***</td>\n",
       "      <td id=\"T_fbd3a_row8_col2\" class=\"data row8 col2\" >46045.9409***</td>\n",
       "    </tr>\n",
       "  </tbody>\n",
       "</table>\n",
       "<p>Note: *** < 0.001, ** < 0.01, * < 0.05, . < 0.1 </p>"
      ],
      "text/plain": [
       "<IPython.core.display.HTML object>"
      ]
     },
     "metadata": {},
     "output_type": "display_data"
    }
   ],
   "source": [
    "model1.compare(model2)"
   ]
  },
  {
   "cell_type": "code",
   "execution_count": 17,
   "id": "91d01c3b-6dd0-469f-84b3-6695d31b3a58",
   "metadata": {
    "tags": []
   },
   "outputs": [],
   "source": [
    "df_no_outliers = b.export(\"dataset\")"
   ]
  },
  {
   "cell_type": "code",
   "execution_count": 20,
   "id": "83fbff83-727f-439c-9235-ab886d340df9",
   "metadata": {
    "tags": []
   },
   "outputs": [
    {
     "data": {
      "image/png": "[encoded data removed]",
      "text/plain": [
       "<Figure size 640x480 with 1 Axes>"
      ]
     },
     "metadata": {},
     "output_type": "display_data"
    }
   ],
   "source": [
    "import matplotlib.pyplot as plt\n",
    "import pandas as pd\n",
    "import numpy as np\n",
    "from sklearn.linear_model import LinearRegression\n",
    "\n",
    "X = df[[\"median_income\"]]\n",
    "y = df[\"median_house_value\"]\n",
    "\n",
    "X_no_outliers = df_no_outliers[[\"median_income\"]]\n",
    "y_no_outliers = df_no_outliers[\"median_house_value\"]\n",
    "\n",
    "plt.scatter(X, y, color='blue', label='Original Data')\n",
    "plt.plot(X, model1.predict(X), color='red', \\\n",
    "         label='Regression Line (Original)')\n",
    "plt.scatter(X_no_outliers, y_no_outliers,\\\n",
    "        color='green', label='Data without Outliers')\n",
    "plt.plot(X_no_outliers, model2.predict(X_no_outliers),\\\n",
    "         color='purple', label='Regression Line (No Outliers)')\n",
    "plt.title(\"Linear Regression Models with and without Outliers\")\n",
    "plt.xlabel(\"Median Income\")\n",
    "plt.ylabel(\"Median House Value\")\n",
    "plt.legend()\n",
    "plt.show()"
   ]
  },
  {
   "cell_type": "markdown",
   "id": "6d0b9936-ea18-41b4-b86a-870c7214c3df",
   "metadata": {
    "tags": []
   },
   "source": [
    "## Two Sample T-test"
   ]
  },
  {
   "cell_type": "code",
   "execution_count": 1,
   "id": "1150c66b-c309-4735-a22d-db32e52e6f0c",
   "metadata": {
    "tags": []
   },
   "outputs": [
    {
     "data": {
      "text/html": [
       "<div>\n",
       "<style scoped>\n",
       "    .dataframe tbody tr th:only-of-type {\n",
       "        vertical-align: middle;\n",
       "    }\n",
       "\n",
       "    .dataframe tbody tr th {\n",
       "        vertical-align: top;\n",
       "    }\n",
       "\n",
       "    .dataframe thead th {\n",
       "        text-align: right;\n",
       "    }\n",
       "</style>\n",
       "<table border=\"1\" class=\"dataframe\">\n",
       "  <thead>\n",
       "    <tr style=\"text-align: right;\">\n",
       "      <th></th>\n",
       "      <th>minority</th>\n",
       "      <th>age</th>\n",
       "      <th>gender</th>\n",
       "      <th>credits</th>\n",
       "      <th>beauty</th>\n",
       "      <th>eval</th>\n",
       "      <th>division</th>\n",
       "      <th>native</th>\n",
       "      <th>tenure</th>\n",
       "      <th>students</th>\n",
       "      <th>allstudents</th>\n",
       "      <th>prof</th>\n",
       "    </tr>\n",
       "  </thead>\n",
       "  <tbody>\n",
       "    <tr>\n",
       "      <th>0</th>\n",
       "      <td>yes</td>\n",
       "      <td>36</td>\n",
       "      <td>female</td>\n",
       "      <td>more</td>\n",
       "      <td>0.289916</td>\n",
       "      <td>4.3</td>\n",
       "      <td>upper</td>\n",
       "      <td>yes</td>\n",
       "      <td>yes</td>\n",
       "      <td>24</td>\n",
       "      <td>43</td>\n",
       "      <td>1</td>\n",
       "    </tr>\n",
       "    <tr>\n",
       "      <th>1</th>\n",
       "      <td>no</td>\n",
       "      <td>59</td>\n",
       "      <td>male</td>\n",
       "      <td>more</td>\n",
       "      <td>-0.737732</td>\n",
       "      <td>4.5</td>\n",
       "      <td>upper</td>\n",
       "      <td>yes</td>\n",
       "      <td>yes</td>\n",
       "      <td>17</td>\n",
       "      <td>20</td>\n",
       "      <td>2</td>\n",
       "    </tr>\n",
       "    <tr>\n",
       "      <th>2</th>\n",
       "      <td>no</td>\n",
       "      <td>51</td>\n",
       "      <td>male</td>\n",
       "      <td>more</td>\n",
       "      <td>-0.571984</td>\n",
       "      <td>3.7</td>\n",
       "      <td>upper</td>\n",
       "      <td>yes</td>\n",
       "      <td>yes</td>\n",
       "      <td>55</td>\n",
       "      <td>55</td>\n",
       "      <td>3</td>\n",
       "    </tr>\n",
       "    <tr>\n",
       "      <th>3</th>\n",
       "      <td>no</td>\n",
       "      <td>40</td>\n",
       "      <td>female</td>\n",
       "      <td>more</td>\n",
       "      <td>-0.677963</td>\n",
       "      <td>4.3</td>\n",
       "      <td>upper</td>\n",
       "      <td>yes</td>\n",
       "      <td>yes</td>\n",
       "      <td>40</td>\n",
       "      <td>46</td>\n",
       "      <td>4</td>\n",
       "    </tr>\n",
       "    <tr>\n",
       "      <th>4</th>\n",
       "      <td>no</td>\n",
       "      <td>31</td>\n",
       "      <td>female</td>\n",
       "      <td>more</td>\n",
       "      <td>1.509794</td>\n",
       "      <td>4.4</td>\n",
       "      <td>upper</td>\n",
       "      <td>yes</td>\n",
       "      <td>yes</td>\n",
       "      <td>42</td>\n",
       "      <td>48</td>\n",
       "      <td>5</td>\n",
       "    </tr>\n",
       "  </tbody>\n",
       "</table>\n",
       "</div>"
      ],
      "text/plain": [
       "  minority  age  gender credits    beauty  eval division native tenure  \\\n",
       "0      yes   36  female    more  0.289916   4.3    upper    yes    yes   \n",
       "1       no   59    male    more -0.737732   4.5    upper    yes    yes   \n",
       "2       no   51    male    more -0.571984   3.7    upper    yes    yes   \n",
       "3       no   40  female    more -0.677963   4.3    upper    yes    yes   \n",
       "4       no   31  female    more  1.509794   4.4    upper    yes    yes   \n",
       "\n",
       "   students  allstudents  prof  \n",
       "0        24           43     1  \n",
       "1        17           20     2  \n",
       "2        55           55     3  \n",
       "3        40           46     4  \n",
       "4        42           48     5  "
      ]
     },
     "execution_count": 1,
     "metadata": {},
     "output_type": "execute_result"
    }
   ],
   "source": [
    "import pandas as pd\n",
    "df = pd.read_csv(\"TeachingRatings.csv\")\n",
    "df.head(5)"
   ]
  },
  {
   "cell_type": "code",
   "execution_count": 2,
   "id": "9523f9ab-7ed8-43df-bc10-2b601dea3f8a",
   "metadata": {
    "tags": []
   },
   "outputs": [
    {
     "data": {
      "application/vnd.jupyter.widget-view+json": {
       "model_id": "61b2456a25774bef928152ca0a13c20f",
       "version_major": 2,
       "version_minor": 0
      },
      "text/plain": [
       "GuidedStats(builtinAssumptions=['Outliers Checking', 'Levene Test', 'Normality Test', 'Multicollinearity Test'…"
      ]
     },
     "execution_count": 2,
     "metadata": {},
     "output_type": "execute_result"
    }
   ],
   "source": [
    "from guidedstats import GuidedStats\n",
    "\n",
    "gs = GuidedStats(df)\n",
    "gs"
   ]
  },
  {
   "cell_type": "code",
   "execution_count": 30,
   "id": "302ebd81-7229-404b-9274-9e589e08ba65",
   "metadata": {
    "tags": []
   },
   "outputs": [
    {
     "data": {
      "text/plain": [
       "array(['more', 'single'], dtype=object)"
      ]
     },
     "execution_count": 30,
     "metadata": {},
     "output_type": "execute_result"
    }
   ],
   "source": [
    "df[\"credits\"].unique()"
   ]
  },
  {
   "cell_type": "code",
   "execution_count": 31,
   "id": "eb08bde6-7752-4fab-b9b7-a7bf0b3ec582",
   "metadata": {
    "tags": []
   },
   "outputs": [
    {
     "name": "stdout",
     "output_type": "stream",
     "text": [
      "T Statistic: -5.196637715207988\n",
      "P-value: 3.0538453630463973e-07\n",
      "Degree of Freedom: 461.0\n"
     ]
    }
   ],
   "source": [
    "from statsmodels.stats.weightstats import ttest_ind\n",
    "more = df[df[\"credits\"] == \"more\"][\"eval\"]\n",
    "single = df[df[\"credits\"] == \"single\"][\"eval\"]\n",
    "tstat,pvalue,degree_freedom = ttest_ind(more,single)\n",
    "print(\"T Statistic:\",tstat)\n",
    "print(\"P-value:\",pvalue)\n",
    "print(\"Degree of Freedom:\",degree_freedom)"
   ]
  },
  {
   "cell_type": "code",
   "execution_count": 9,
   "id": "9d29d0d2-eef2-483c-9166-270a8e8e0931",
   "metadata": {
    "tags": []
   },
   "outputs": [
    {
     "data": {
      "text/html": [
       "<div>\n",
       "<style scoped>\n",
       "    .dataframe tbody tr th:only-of-type {\n",
       "        vertical-align: middle;\n",
       "    }\n",
       "\n",
       "    .dataframe tbody tr th {\n",
       "        vertical-align: top;\n",
       "    }\n",
       "\n",
       "    .dataframe thead th {\n",
       "        text-align: right;\n",
       "    }\n",
       "</style>\n",
       "<table border=\"1\" class=\"dataframe\">\n",
       "  <thead>\n",
       "    <tr style=\"text-align: right;\">\n",
       "      <th></th>\n",
       "      <th>minority</th>\n",
       "      <th>age</th>\n",
       "      <th>gender</th>\n",
       "      <th>credits</th>\n",
       "      <th>beauty</th>\n",
       "      <th>eval</th>\n",
       "      <th>division</th>\n",
       "      <th>native</th>\n",
       "      <th>tenure</th>\n",
       "      <th>students</th>\n",
       "      <th>allstudents</th>\n",
       "      <th>prof</th>\n",
       "    </tr>\n",
       "  </thead>\n",
       "  <tbody>\n",
       "    <tr>\n",
       "      <th>0</th>\n",
       "      <td>yes</td>\n",
       "      <td>36</td>\n",
       "      <td>female</td>\n",
       "      <td>more</td>\n",
       "      <td>0.289916</td>\n",
       "      <td>4.3</td>\n",
       "      <td>upper</td>\n",
       "      <td>yes</td>\n",
       "      <td>yes</td>\n",
       "      <td>24</td>\n",
       "      <td>43</td>\n",
       "      <td>1</td>\n",
       "    </tr>\n",
       "    <tr>\n",
       "      <th>1</th>\n",
       "      <td>no</td>\n",
       "      <td>59</td>\n",
       "      <td>male</td>\n",
       "      <td>more</td>\n",
       "      <td>-0.737732</td>\n",
       "      <td>4.5</td>\n",
       "      <td>upper</td>\n",
       "      <td>yes</td>\n",
       "      <td>yes</td>\n",
       "      <td>17</td>\n",
       "      <td>20</td>\n",
       "      <td>2</td>\n",
       "    </tr>\n",
       "    <tr>\n",
       "      <th>2</th>\n",
       "      <td>no</td>\n",
       "      <td>51</td>\n",
       "      <td>male</td>\n",
       "      <td>more</td>\n",
       "      <td>-0.571984</td>\n",
       "      <td>3.7</td>\n",
       "      <td>upper</td>\n",
       "      <td>yes</td>\n",
       "      <td>yes</td>\n",
       "      <td>55</td>\n",
       "      <td>55</td>\n",
       "      <td>3</td>\n",
       "    </tr>\n",
       "    <tr>\n",
       "      <th>3</th>\n",
       "      <td>no</td>\n",
       "      <td>40</td>\n",
       "      <td>female</td>\n",
       "      <td>more</td>\n",
       "      <td>-0.677963</td>\n",
       "      <td>4.3</td>\n",
       "      <td>upper</td>\n",
       "      <td>yes</td>\n",
       "      <td>yes</td>\n",
       "      <td>40</td>\n",
       "      <td>46</td>\n",
       "      <td>4</td>\n",
       "    </tr>\n",
       "    <tr>\n",
       "      <th>4</th>\n",
       "      <td>no</td>\n",
       "      <td>31</td>\n",
       "      <td>female</td>\n",
       "      <td>more</td>\n",
       "      <td>1.509794</td>\n",
       "      <td>4.4</td>\n",
       "      <td>upper</td>\n",
       "      <td>yes</td>\n",
       "      <td>yes</td>\n",
       "      <td>42</td>\n",
       "      <td>48</td>\n",
       "      <td>5</td>\n",
       "    </tr>\n",
       "  </tbody>\n",
       "</table>\n",
       "</div>"
      ],
      "text/plain": [
       "  minority  age  gender credits    beauty  eval division native tenure  \\\n",
       "0      yes   36  female    more  0.289916   4.3    upper    yes    yes   \n",
       "1       no   59    male    more -0.737732   4.5    upper    yes    yes   \n",
       "2       no   51    male    more -0.571984   3.7    upper    yes    yes   \n",
       "3       no   40  female    more -0.677963   4.3    upper    yes    yes   \n",
       "4       no   31  female    more  1.509794   4.4    upper    yes    yes   \n",
       "\n",
       "   students  allstudents  prof  \n",
       "0        24           43     1  \n",
       "1        17           20     2  \n",
       "2        55           55     3  \n",
       "3        40           46     4  \n",
       "4        42           48     5  "
      ]
     },
     "execution_count": 9,
     "metadata": {},
     "output_type": "execute_result"
    }
   ],
   "source": [
    "import pandas as pd\n",
    "df = pd.read_csv(\"TeachingRatings.csv\")\n",
    "df.head(5)"
   ]
  },
  {
   "cell_type": "code",
   "execution_count": 3,
   "id": "382f900a-610b-4ee7-914b-89e4da8e2509",
   "metadata": {
    "tags": []
   },
   "outputs": [
    {
     "data": {
      "application/vnd.jupyter.widget-view+json": {
       "model_id": "d198b19d1932406d84fcb8a75675ae7c",
       "version_major": 2,
       "version_minor": 0
      },
      "text/plain": [
       "GuidedStats(builtinAssumptions=['Outliers Checking', 'Levene Test', 'Normality Test', 'Multicollinearity Test'…"
      ]
     },
     "execution_count": 3,
     "metadata": {},
     "output_type": "execute_result"
    }
   ],
   "source": [
    "from guidedstats import GuidedStats\n",
    "import pandas as pd\n",
    "\n",
    "df = pd.read_csv(\"auto-mpg.csv\")\n",
    "gs = GuidedStats(df)\n",
    "gs"
   ]
  },
  {
   "cell_type": "code",
   "execution_count": 4,
   "id": "73365060-ec37-4c76-b196-49d65fc0bcde",
   "metadata": {
    "tags": []
   },
   "outputs": [],
   "source": [
    "dataset = gs.export(\"dataset\")\n",
    "dataset['origin'] = dataset.origin.astype('category')\n",
    "gs._import(\"dataset\",dataset)"
   ]
  },
  {
   "cell_type": "code",
   "execution_count": null,
   "id": "5a3d3e3c-6be1-4889-8e06-3e3c8761a81e",
   "metadata": {},
   "outputs": [],
   "source": []
  }
 ],
 "metadata": {
  "kernelspec": {
   "display_name": "Python 3 (ipykernel)",
   "language": "python",
   "name": "python3"
  },
  "language_info": {
   "codemirror_mode": {
    "name": "ipython",
    "version": 3
   },
   "file_extension": ".py",
   "mimetype": "text/x-python",
   "name": "python",
   "nbconvert_exporter": "python",
   "pygments_lexer": "ipython3",
   "version": "3.11.7"
  }
 },
 "nbformat": 4,
 "nbformat_minor": 5
}
