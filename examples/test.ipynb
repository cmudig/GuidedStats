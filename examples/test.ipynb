{
 "cells": [
  {
   "cell_type": "code",
   "execution_count": 33,
   "metadata": {
    "tags": []
   },
   "outputs": [],
   "source": [
    "from guidedstats import GuidedStats\n",
    "import pandas as pd\n",
    "\n",
    "df = pd.read_csv(\"TeachingRatings.csv\")\n",
    "a = GuidedStats(df)"
   ]
  },
  {
   "cell_type": "code",
   "execution_count": 34,
   "metadata": {
    "tags": []
   },
   "outputs": [
    {
     "name": "stdout",
     "output_type": "stream",
     "text": [
      "age\n",
      "0\n",
      "beauty\n",
      "0\n",
      "eval\n",
      "3\n",
      "students\n",
      "42\n",
      "allstudents\n",
      "50\n",
      "prof\n",
      "0\n"
     ]
    }
   ],
   "source": [
    "import numpy as np\n",
    "def outlier(X, Y = None, *args, **kwargs):\n",
    "    X = X.to_numpy().reshape((-1))\n",
    "    previousX = kwargs.get(\"previousX\", None)\n",
    "    if previousX is not None:\n",
    "        previousX = previousX.to_numpy().reshape((-1))\n",
    "        Q1 = np.percentile(previousX, 25)\n",
    "        Q3 = np.percentile(previousX, 75)\n",
    "        IQR = Q3 - Q1\n",
    "    else:\n",
    "        Q1 = np.percentile(X, 25)\n",
    "        Q3 = np.percentile(X, 75)\n",
    "        IQR = Q3 - Q1\n",
    "\n",
    "    # Define the outlier thresholds\n",
    "    lower_threshold = Q1 - 1.5 * IQR\n",
    "    upper_threshold = Q3 + 1.5 * IQR\n",
    "\n",
    "    count = 0\n",
    "    for item in X:\n",
    "        if item < lower_threshold or item > upper_threshold:\n",
    "            count += 1\n",
    "    print(count)\n",
    "for col in df:\n",
    "    if str(df[col].dtype) in ('float64','int64'):\n",
    "        print(col)\n",
    "        outlier(df[col])"
   ]
  },
  {
   "cell_type": "code",
   "execution_count": 5,
   "metadata": {
    "tags": []
   },
   "outputs": [],
   "source": [
    "df[\"gender\"],_ = pd.factorize(df[\"gender\"])\n",
    "df[\"ethnicity\"],_ = pd.factorize(df[\"ethnicity\"])\n",
    "df[\"fcollege\"],_ = pd.factorize(df[\"fcollege\"])\n",
    "df[\"mcollege\"],_ = pd.factorize(df[\"mcollege\"])\n",
    "df[\"home\"],_ = pd.factorize(df[\"home\"])\n",
    "df[\"urban\"],_ = pd.factorize(df[\"urban\"])\n",
    "df[\"income\"],_ = pd.factorize(df[\"income\"])\n",
    "df[\"region\"],_ = pd.factorize(df[\"region\"])"
   ]
  },
  {
   "cell_type": "code",
   "execution_count": 6,
   "metadata": {
    "tags": []
   },
   "outputs": [
    {
     "data": {
      "application/vnd.jupyter.widget-view+json": {
       "model_id": "b66179d05ec84b7ba14d0e76fc23eaed",
       "version_major": 2,
       "version_minor": 0
      },
      "text/plain": [
       "GuidedStats(builtinAssumptions=['Outliers Checking', 'Levene Test', 'Normality Test', 'Multicollinearity Test'…"
      ]
     },
     "execution_count": 6,
     "metadata": {},
     "output_type": "execute_result"
    }
   ],
   "source": [
    "a"
   ]
  },
  {
   "cell_type": "code",
   "execution_count": 23,
   "metadata": {
    "tags": []
   },
   "outputs": [
    {
     "data": {
      "application/vnd.jupyter.widget-view+json": {
       "model_id": "9e8f1e6e3a70467b9e7853de4482ba77",
       "version_major": 2,
       "version_minor": 0
      },
      "text/plain": [
       "GuidedStats(builtinAssumptions=['Outliers Checking', 'Levene Test', 'Normality Test', 'Multicollinearity Test'…"
      ]
     },
     "execution_count": 23,
     "metadata": {},
     "output_type": "execute_result"
    }
   ],
   "source": [
    "from guidedstats import GuidedStats\n",
    "import pandas as pd\n",
    "\n",
    "df = pd.read_csv(\"housing.csv\")\n",
    "df = df.dropna()\n",
    "\n",
    "b = GuidedStats(df)\n",
    "b"
   ]
  },
  {
   "cell_type": "code",
   "execution_count": 17,
   "metadata": {
    "tags": []
   },
   "outputs": [
    {
     "name": "stdout",
     "output_type": "stream",
     "text": [
      "longitude\n",
      "0\n",
      "latitude\n",
      "0\n",
      "housing_median_age\n",
      "0\n",
      "total_rooms\n",
      "1287\n",
      "total_bedrooms\n",
      "0\n",
      "population\n",
      "1196\n",
      "households\n",
      "1220\n",
      "median_income\n",
      "681\n",
      "median_house_value\n",
      "1071\n"
     ]
    }
   ],
   "source": [
    "import numpy as np\n",
    "def outlier(X, Y = None, *args, **kwargs):\n",
    "    X = X.to_numpy().reshape((-1))\n",
    "    previousX = kwargs.get(\"previousX\", None)\n",
    "    if previousX is not None:\n",
    "        previousX = previousX.to_numpy().reshape((-1))\n",
    "        Q1 = np.percentile(previousX, 25)\n",
    "        Q3 = np.percentile(previousX, 75)\n",
    "        IQR = Q3 - Q1\n",
    "    else:\n",
    "        Q1 = np.percentile(X, 25)\n",
    "        Q3 = np.percentile(X, 75)\n",
    "        IQR = Q3 - Q1\n",
    "\n",
    "    # Define the outlier thresholds\n",
    "    lower_threshold = Q1 - 1.5 * IQR\n",
    "    upper_threshold = Q3 + 1.5 * IQR\n",
    "\n",
    "    count = 0\n",
    "    for item in X:\n",
    "        if item < lower_threshold or item > upper_threshold:\n",
    "            count += 1\n",
    "    print(count)\n",
    "for col in df:\n",
    "    if str(df[col].dtype) in ('float64','int64'):\n",
    "        print(col)\n",
    "        outlier(df[col])"
   ]
  },
  {
   "cell_type": "code",
   "execution_count": 22,
   "metadata": {
    "tags": []
   },
   "outputs": [
    {
     "data": {
      "text/plain": [
       "<matplotlib.collections.PathCollection at 0x15e69c790>"
      ]
     },
     "execution_count": 22,
     "metadata": {},
     "output_type": "execute_result"
    },
    {
     "data": {
      "image/png": "[encoded data removed]",
      "text/plain": [
       "<Figure size 640x480 with 1 Axes>"
      ]
     },
     "metadata": {},
     "output_type": "display_data"
    }
   ],
   "source": [
    "import matplotlib.pyplot as plt\n",
    "plt.scatter(df[\"housing_median_age\"],df[\"median_income\"])"
   ]
  },
  {
   "cell_type": "code",
   "execution_count": 23,
   "metadata": {
    "tags": []
   },
   "outputs": [
    {
     "name": "stdout",
     "output_type": "stream",
     "text": [
      "<class 'pandas.core.frame.DataFrame'>\n",
      "RangeIndex: 420 entries, 0 to 419\n",
      "Data columns (total 14 columns):\n",
      " #   Column       Non-Null Count  Dtype  \n",
      "---  ------       --------------  -----  \n",
      " 0   district     420 non-null    int64  \n",
      " 1   school       420 non-null    object \n",
      " 2   county       420 non-null    object \n",
      " 3   grades       420 non-null    object \n",
      " 4   students     420 non-null    int64  \n",
      " 5   teachers     420 non-null    float64\n",
      " 6   calworks     420 non-null    float64\n",
      " 7   lunch        420 non-null    float64\n",
      " 8   computer     420 non-null    int64  \n",
      " 9   expenditure  420 non-null    float64\n",
      " 10  income       420 non-null    float64\n",
      " 11  english      420 non-null    float64\n",
      " 12  read         420 non-null    float64\n",
      " 13  math         420 non-null    float64\n",
      "dtypes: float64(8), int64(3), object(3)\n",
      "memory usage: 46.1+ KB\n"
     ]
    }
   ],
   "source": [
    "import pandas as pd\n",
    "\n",
    "df = pd.read_csv(\"CASchools.csv\")\n",
    "df.info()"
   ]
  },
  {
   "cell_type": "code",
   "execution_count": 9,
   "metadata": {
    "tags": []
   },
   "outputs": [
    {
     "data": {
      "text/html": [
       "<div>\n",
       "<style scoped>\n",
       "    .dataframe tbody tr th:only-of-type {\n",
       "        vertical-align: middle;\n",
       "    }\n",
       "\n",
       "    .dataframe tbody tr th {\n",
       "        vertical-align: top;\n",
       "    }\n",
       "\n",
       "    .dataframe thead th {\n",
       "        text-align: right;\n",
       "    }\n",
       "</style>\n",
       "<table border=\"1\" class=\"dataframe\">\n",
       "  <thead>\n",
       "    <tr style=\"text-align: right;\">\n",
       "      <th></th>\n",
       "      <th>district</th>\n",
       "      <th>students</th>\n",
       "      <th>teachers</th>\n",
       "      <th>calworks</th>\n",
       "      <th>lunch</th>\n",
       "      <th>computer</th>\n",
       "      <th>expenditure</th>\n",
       "      <th>income</th>\n",
       "      <th>english</th>\n",
       "      <th>read</th>\n",
       "      <th>math</th>\n",
       "    </tr>\n",
       "  </thead>\n",
       "  <tbody>\n",
       "    <tr>\n",
       "      <th>count</th>\n",
       "      <td>420.000000</td>\n",
       "      <td>420.000000</td>\n",
       "      <td>420.000000</td>\n",
       "      <td>420.000000</td>\n",
       "      <td>420.000000</td>\n",
       "      <td>420.000000</td>\n",
       "      <td>420.000000</td>\n",
       "      <td>420.000000</td>\n",
       "      <td>420.000000</td>\n",
       "      <td>420.000000</td>\n",
       "      <td>420.000000</td>\n",
       "    </tr>\n",
       "    <tr>\n",
       "      <th>mean</th>\n",
       "      <td>67472.809524</td>\n",
       "      <td>2628.792857</td>\n",
       "      <td>129.067376</td>\n",
       "      <td>13.246042</td>\n",
       "      <td>44.705237</td>\n",
       "      <td>303.383333</td>\n",
       "      <td>5312.407541</td>\n",
       "      <td>15.316588</td>\n",
       "      <td>15.768155</td>\n",
       "      <td>654.970477</td>\n",
       "      <td>653.342619</td>\n",
       "    </tr>\n",
       "    <tr>\n",
       "      <th>std</th>\n",
       "      <td>3466.994655</td>\n",
       "      <td>3913.104985</td>\n",
       "      <td>187.912679</td>\n",
       "      <td>11.454821</td>\n",
       "      <td>27.123381</td>\n",
       "      <td>441.341298</td>\n",
       "      <td>633.937053</td>\n",
       "      <td>7.225890</td>\n",
       "      <td>18.285927</td>\n",
       "      <td>20.107980</td>\n",
       "      <td>18.754202</td>\n",
       "    </tr>\n",
       "    <tr>\n",
       "      <th>min</th>\n",
       "      <td>61382.000000</td>\n",
       "      <td>81.000000</td>\n",
       "      <td>4.850000</td>\n",
       "      <td>0.000000</td>\n",
       "      <td>0.000000</td>\n",
       "      <td>0.000000</td>\n",
       "      <td>3926.069580</td>\n",
       "      <td>5.335000</td>\n",
       "      <td>0.000000</td>\n",
       "      <td>604.500000</td>\n",
       "      <td>605.400024</td>\n",
       "    </tr>\n",
       "    <tr>\n",
       "      <th>25%</th>\n",
       "      <td>64307.750000</td>\n",
       "      <td>379.000000</td>\n",
       "      <td>19.662499</td>\n",
       "      <td>4.395375</td>\n",
       "      <td>23.282200</td>\n",
       "      <td>46.000000</td>\n",
       "      <td>4906.180053</td>\n",
       "      <td>10.639000</td>\n",
       "      <td>1.940807</td>\n",
       "      <td>640.400024</td>\n",
       "      <td>639.375015</td>\n",
       "    </tr>\n",
       "    <tr>\n",
       "      <th>50%</th>\n",
       "      <td>67760.500000</td>\n",
       "      <td>950.500000</td>\n",
       "      <td>48.564999</td>\n",
       "      <td>10.520450</td>\n",
       "      <td>41.750700</td>\n",
       "      <td>117.500000</td>\n",
       "      <td>5214.516601</td>\n",
       "      <td>13.727800</td>\n",
       "      <td>8.777634</td>\n",
       "      <td>655.750000</td>\n",
       "      <td>652.449982</td>\n",
       "    </tr>\n",
       "    <tr>\n",
       "      <th>75%</th>\n",
       "      <td>70419.000000</td>\n",
       "      <td>3008.000000</td>\n",
       "      <td>146.350002</td>\n",
       "      <td>18.981350</td>\n",
       "      <td>66.864725</td>\n",
       "      <td>375.250000</td>\n",
       "      <td>5601.401367</td>\n",
       "      <td>17.629001</td>\n",
       "      <td>22.970003</td>\n",
       "      <td>668.725006</td>\n",
       "      <td>665.849991</td>\n",
       "    </tr>\n",
       "    <tr>\n",
       "      <th>max</th>\n",
       "      <td>75440.000000</td>\n",
       "      <td>27176.000000</td>\n",
       "      <td>1429.000000</td>\n",
       "      <td>78.994202</td>\n",
       "      <td>100.000000</td>\n",
       "      <td>3324.000000</td>\n",
       "      <td>7711.506836</td>\n",
       "      <td>55.327999</td>\n",
       "      <td>85.539719</td>\n",
       "      <td>704.000000</td>\n",
       "      <td>709.500000</td>\n",
       "    </tr>\n",
       "  </tbody>\n",
       "</table>\n",
       "</div>"
      ],
      "text/plain": [
       "           district      students     teachers    calworks       lunch  \\\n",
       "count    420.000000    420.000000   420.000000  420.000000  420.000000   \n",
       "mean   67472.809524   2628.792857   129.067376   13.246042   44.705237   \n",
       "std     3466.994655   3913.104985   187.912679   11.454821   27.123381   \n",
       "min    61382.000000     81.000000     4.850000    0.000000    0.000000   \n",
       "25%    64307.750000    379.000000    19.662499    4.395375   23.282200   \n",
       "50%    67760.500000    950.500000    48.564999   10.520450   41.750700   \n",
       "75%    70419.000000   3008.000000   146.350002   18.981350   66.864725   \n",
       "max    75440.000000  27176.000000  1429.000000   78.994202  100.000000   \n",
       "\n",
       "          computer  expenditure      income     english        read  \\\n",
       "count   420.000000   420.000000  420.000000  420.000000  420.000000   \n",
       "mean    303.383333  5312.407541   15.316588   15.768155  654.970477   \n",
       "std     441.341298   633.937053    7.225890   18.285927   20.107980   \n",
       "min       0.000000  3926.069580    5.335000    0.000000  604.500000   \n",
       "25%      46.000000  4906.180053   10.639000    1.940807  640.400024   \n",
       "50%     117.500000  5214.516601   13.727800    8.777634  655.750000   \n",
       "75%     375.250000  5601.401367   17.629001   22.970003  668.725006   \n",
       "max    3324.000000  7711.506836   55.327999   85.539719  704.000000   \n",
       "\n",
       "             math  \n",
       "count  420.000000  \n",
       "mean   653.342619  \n",
       "std     18.754202  \n",
       "min    605.400024  \n",
       "25%    639.375015  \n",
       "50%    652.449982  \n",
       "75%    665.849991  \n",
       "max    709.500000  "
      ]
     },
     "execution_count": 9,
     "metadata": {},
     "output_type": "execute_result"
    }
   ],
   "source": [
    "df.describe()"
   ]
  },
  {
   "cell_type": "code",
   "execution_count": 3,
   "metadata": {
    "tags": []
   },
   "outputs": [],
   "source": [
    "df[\"score\"] = (df[\"read\"]+df[\"math\"])/2"
   ]
  },
  {
   "cell_type": "code",
   "execution_count": 17,
   "metadata": {
    "tags": []
   },
   "outputs": [
    {
     "name": "stdout",
     "output_type": "stream",
     "text": [
      "                            OLS Regression Results                            \n",
      "==============================================================================\n",
      "Dep. Variable:                  score   R-squared:                       0.708\n",
      "Model:                            OLS   Adj. R-squared:                  0.705\n",
      "Method:                 Least Squares   F-statistic:                     251.2\n",
      "Date:                Sun, 10 Mar 2024   Prob (F-statistic):          2.16e-109\n",
      "Time:                        04:46:57   Log-Likelihood:                -1575.0\n",
      "No. Observations:                 420   AIC:                             3160.\n",
      "Df Residuals:                     415   BIC:                             3180.\n",
      "Df Model:                           4                                         \n",
      "Covariance Type:            nonrobust                                         \n",
      "===============================================================================\n",
      "                  coef    std err          t      P>|t|      [0.025      0.975]\n",
      "-------------------------------------------------------------------------------\n",
      "const         642.4806      4.367    147.128      0.000     633.897     651.064\n",
      "teachers       -0.0009      0.003     -0.291      0.771      -0.007       0.005\n",
      "expenditure    -0.0007      0.001     -0.862      0.389      -0.002       0.001\n",
      "income          1.5224      0.079     19.283      0.000       1.367       1.678\n",
      "english        -0.4849      0.032    -15.363      0.000      -0.547      -0.423\n",
      "==============================================================================\n",
      "Omnibus:                        4.617   Durbin-Watson:                   1.205\n",
      "Prob(Omnibus):                  0.099   Jarque-Bera (JB):                4.576\n",
      "Skew:                          -0.187   Prob(JB):                        0.101\n",
      "Kurtosis:                       3.349   Cond. No.                     4.63e+04\n",
      "==============================================================================\n",
      "\n",
      "Notes:\n",
      "[1] Standard Errors assume that the covariance matrix of the errors is correctly specified.\n",
      "[2] The condition number is large, 4.63e+04. This might indicate that there are\n",
      "strong multicollinearity or other numerical problems.\n"
     ]
    }
   ],
   "source": [
    "import statsmodels.api as sm\n",
    "X = sm.add_constant(df[[\"teachers\",\"expenditure\",\"income\",\"english\"]])\n",
    "Y = df[\"score\"]\n",
    "model = sm.OLS(Y, X)\n",
    "results = model.fit()\n",
    "print(results.summary())"
   ]
  },
  {
   "cell_type": "code",
   "execution_count": 46,
   "metadata": {
    "tags": []
   },
   "outputs": [
    {
     "name": "stdout",
     "output_type": "stream",
     "text": [
      "                            OLS Regression Results                            \n",
      "==============================================================================\n",
      "Dep. Variable:                  score   R-squared:                       0.707\n",
      "Model:                            OLS   Adj. R-squared:                  0.706\n",
      "Method:                 Least Squares   F-statistic:                     503.4\n",
      "Date:                Sun, 10 Mar 2024   Prob (F-statistic):          6.30e-112\n",
      "Time:                        05:25:16   Log-Likelihood:                -1575.4\n",
      "No. Observations:                 420   AIC:                             3157.\n",
      "Df Residuals:                     417   BIC:                             3169.\n",
      "Df Model:                           2                                         \n",
      "Covariance Type:            nonrobust                                         \n",
      "==============================================================================\n",
      "                 coef    std err          t      P>|t|      [0.025      0.975]\n",
      "------------------------------------------------------------------------------\n",
      "const        638.9260      1.430    446.762      0.000     636.115     641.737\n",
      "income         1.4980      0.073     20.399      0.000       1.354       1.642\n",
      "english       -0.4892      0.029    -16.857      0.000      -0.546      -0.432\n",
      "==============================================================================\n",
      "Omnibus:                        4.318   Durbin-Watson:                   1.194\n",
      "Prob(Omnibus):                  0.115   Jarque-Bera (JB):                4.232\n",
      "Skew:                          -0.181   Prob(JB):                        0.121\n",
      "Kurtosis:                       3.332   Cond. No.                         74.3\n",
      "==============================================================================\n",
      "\n",
      "Notes:\n",
      "[1] Standard Errors assume that the covariance matrix of the errors is correctly specified.\n"
     ]
    }
   ],
   "source": [
    "df[\"STR\"] = df[\"students\"]/df[\"teachers\"]\n",
    "X = sm.add_constant(df[[\"income\",\"english\"]])\n",
    "Y = df[\"score\"]\n",
    "model = sm.OLS(Y, X)\n",
    "results = model.fit()\n",
    "print(results.summary())"
   ]
  },
  {
   "cell_type": "code",
   "execution_count": 38,
   "metadata": {
    "tags": []
   },
   "outputs": [],
   "source": [
    "from guidedstats import GuidedStats\n",
    "import pandas as pd\n",
    "\n",
    "df = pd.read_csv(\"CASchools.csv\")\n",
    "a = GuidedStats(df)"
   ]
  },
  {
   "cell_type": "code",
   "execution_count": 39,
   "metadata": {
    "tags": []
   },
   "outputs": [],
   "source": [
    "df[\"score\"] = (df[\"read\"]+df[\"math\"])/2\n",
    "df[\"STR\"] = df[\"students\"]/df[\"teachers\"]\n",
    "df[\"CR\"] = df[\"computer\"]/df[\"students\"]"
   ]
  },
  {
   "cell_type": "code",
   "execution_count": 40,
   "metadata": {
    "tags": []
   },
   "outputs": [
    {
     "name": "stdout",
     "output_type": "stream",
     "text": [
      "district\n",
      "0\n",
      "students\n",
      "44\n",
      "teachers\n",
      "41\n",
      "calworks\n",
      "11\n",
      "lunch\n",
      "0\n",
      "computer\n",
      "38\n",
      "expenditure\n",
      "18\n",
      "income\n",
      "23\n",
      "english\n",
      "20\n",
      "read\n",
      "0\n",
      "math\n",
      "2\n",
      "score\n",
      "1\n",
      "STR\n",
      "11\n",
      "CR\n",
      "16\n"
     ]
    }
   ],
   "source": [
    "import numpy as np\n",
    "def outlier(X, Y = None, *args, **kwargs):\n",
    "    X = X.to_numpy().reshape((-1))\n",
    "    previousX = kwargs.get(\"previousX\", None)\n",
    "    if previousX is not None:\n",
    "        previousX = previousX.to_numpy().reshape((-1))\n",
    "        Q1 = np.percentile(previousX, 25)\n",
    "        Q3 = np.percentile(previousX, 75)\n",
    "        IQR = Q3 - Q1\n",
    "    else:\n",
    "        Q1 = np.percentile(X, 25)\n",
    "        Q3 = np.percentile(X, 75)\n",
    "        IQR = Q3 - Q1\n",
    "\n",
    "    # Define the outlier thresholds\n",
    "    lower_threshold = Q1 - 1.5 * IQR\n",
    "    upper_threshold = Q3 + 1.5 * IQR\n",
    "\n",
    "    count = 0\n",
    "    for item in X:\n",
    "        if item < lower_threshold or item > upper_threshold:\n",
    "            count += 1\n",
    "    print(count)\n",
    "for col in df:\n",
    "    if str(df[col].dtype) in ('float64','int64'):\n",
    "        print(col)\n",
    "        outlier(df[col])"
   ]
  },
  {
   "cell_type": "code",
   "execution_count": 9,
   "metadata": {
    "tags": []
   },
   "outputs": [
    {
     "data": {
      "application/vnd.jupyter.widget-view+json": {
       "model_id": "dece59a0d2114485a8e0cd5aeaa504f3",
       "version_major": 2,
       "version_minor": 0
      },
      "text/plain": [
       "GuidedStats(builtinAssumptions=['Outliers Checking', 'Levene Test', 'Normality Test', 'Multicollinearity Test'…"
      ]
     },
     "execution_count": 9,
     "metadata": {},
     "output_type": "execute_result"
    }
   ],
   "source": [
    "a"
   ]
  },
  {
   "cell_type": "code",
   "execution_count": 16,
   "metadata": {
    "tags": []
   },
   "outputs": [
    {
     "data": {
      "text/plain": [
       "const      640.315498\n",
       "income       1.494517\n",
       "english     -0.488267\n",
       "STR         -0.068775\n",
       "dtype: float64"
      ]
     },
     "execution_count": 16,
     "metadata": {},
     "output_type": "execute_result"
    }
   ],
   "source": [
    "model1 = a.export(\"model\")\n",
    "model1.fittedModel.params"
   ]
  },
  {
   "cell_type": "code",
   "execution_count": 17,
   "metadata": {
    "tags": []
   },
   "outputs": [
    {
     "data": {
      "text/plain": [
       "const      686.032245\n",
       "english     -0.649777\n",
       "STR         -1.101296\n",
       "dtype: float64"
      ]
     },
     "execution_count": 17,
     "metadata": {},
     "output_type": "execute_result"
    }
   ],
   "source": [
    "model2 = a.export(\"model\")\n",
    "model2.fittedModel.params"
   ]
  },
  {
   "cell_type": "code",
   "execution_count": 24,
   "metadata": {
    "tags": []
   },
   "outputs": [
    {
     "data": {
      "text/plain": [
       "const      677.064216\n",
       "english     -0.630360\n",
       "CR          27.269598\n",
       "STR         -0.849000\n",
       "dtype: float64"
      ]
     },
     "execution_count": 24,
     "metadata": {},
     "output_type": "execute_result"
    }
   ],
   "source": [
    "model3 = a.export(\"model\")\n",
    "model3.fittedModel.params"
   ]
  },
  {
   "cell_type": "code",
   "execution_count": 19,
   "metadata": {
    "tags": []
   },
   "outputs": [
    {
     "data": {
      "text/plain": [
       "0.18764236656143995"
      ]
     },
     "execution_count": 19,
     "metadata": {},
     "output_type": "execute_result"
    }
   ],
   "source": [
    "df[\"english\"].corr(df[\"STR\"])"
   ]
  },
  {
   "cell_type": "code",
   "execution_count": 4,
   "metadata": {
    "tags": []
   },
   "outputs": [
    {
     "ename": "SyntaxError",
     "evalue": "invalid syntax (1806455398.py, line 1)",
     "output_type": "error",
     "traceback": [
      "\u001b[0;36m  Cell \u001b[0;32mIn[4], line 1\u001b[0;36m\u001b[0m\n\u001b[0;31m    0.4199 0.4192\u001b[0m\n\u001b[0m           ^\u001b[0m\n\u001b[0;31mSyntaxError\u001b[0m\u001b[0;31m:\u001b[0m invalid syntax\n"
     ]
    }
   ],
   "source": [
    "0.4199 0.4192\n",
    "0.7828 0.6891\n",
    "0.6989 0.7159"
   ]
  },
  {
   "cell_type": "code",
   "execution_count": 18,
   "metadata": {
    "tags": []
   },
   "outputs": [
    {
     "data": {
      "text/plain": [
       "const      638.925974\n",
       "income       1.497987\n",
       "english     -0.489180\n",
       "dtype: float64"
      ]
     },
     "execution_count": 18,
     "metadata": {},
     "output_type": "execute_result"
    }
   ],
   "source": [
    "model2 = a.export(\"model\")\n",
    "model2.fittedModel.params"
   ]
  },
  {
   "cell_type": "code",
   "execution_count": 19,
   "metadata": {
    "tags": []
   },
   "outputs": [
    {
     "data": {
      "text/html": [
       "<style type=\"text/css\">\n",
       "#T_be80c th {\n",
       "  font-size: 12pt;\n",
       "  text-align: center;\n",
       "  border-style: solid;\n",
       "  border-width: 1px;\n",
       "}\n",
       "#T_be80c td {\n",
       "  text-align: right;\n",
       "  border-style: solid;\n",
       "  border-width: 1px;\n",
       "}\n",
       "#T_be80c_row0_col0, #T_be80c_row1_col0, #T_be80c_row2_col0, #T_be80c_row3_col0, #T_be80c_row4_col0, #T_be80c_row5_col0, #T_be80c_row6_col0, #T_be80c_row7_col0, #T_be80c_row8_col0, #T_be80c_row9_col0, #T_be80c_row10_col0 {\n",
       "  text-align: left;\n",
       "  font-weight: bold;\n",
       "}\n",
       "#T_be80c_row0_col1, #T_be80c_row0_col2, #T_be80c_row1_col1, #T_be80c_row1_col2, #T_be80c_row2_col1, #T_be80c_row2_col2, #T_be80c_row3_col1, #T_be80c_row3_col2, #T_be80c_row4_col1, #T_be80c_row4_col2, #T_be80c_row5_col1, #T_be80c_row5_col2, #T_be80c_row6_col1, #T_be80c_row6_col2, #T_be80c_row9_col1, #T_be80c_row9_col2 {\n",
       "  text-align: right;\n",
       "}\n",
       "#T_be80c_row7_col1, #T_be80c_row7_col2, #T_be80c_row8_col1, #T_be80c_row8_col2, #T_be80c_row10_col1, #T_be80c_row10_col2 {\n",
       "  font-weight: bold;\n",
       "  text-align: right;\n",
       "}\n",
       "</style>\n",
       "<table id=\"T_be80c\">\n",
       "  <caption>Model Comparison</caption>\n",
       "  <thead>\n",
       "    <tr>\n",
       "      <th id=\"T_be80c_level0_col0\" class=\"col_heading level0 col0\" >Metric</th>\n",
       "      <th id=\"T_be80c_level0_col1\" class=\"col_heading level0 col1\" >Model 1</th>\n",
       "      <th id=\"T_be80c_level0_col2\" class=\"col_heading level0 col2\" >Model 2</th>\n",
       "    </tr>\n",
       "  </thead>\n",
       "  <tbody>\n",
       "    <tr>\n",
       "      <td id=\"T_be80c_row0_col0\" class=\"data row0 col0\" >R-squared</td>\n",
       "      <td id=\"T_be80c_row0_col1\" class=\"data row0 col1\" >0.7071</td>\n",
       "      <td id=\"T_be80c_row0_col2\" class=\"data row0 col2\" >0.7076</td>\n",
       "    </tr>\n",
       "    <tr>\n",
       "      <td id=\"T_be80c_row1_col0\" class=\"data row1 col0\" >Adjusted R-squared</td>\n",
       "      <td id=\"T_be80c_row1_col1\" class=\"data row1 col1\" >0.7057</td>\n",
       "      <td id=\"T_be80c_row1_col2\" class=\"data row1 col2\" >0.7055</td>\n",
       "    </tr>\n",
       "    <tr>\n",
       "      <td id=\"T_be80c_row2_col0\" class=\"data row2 col0\" >F-statistic</td>\n",
       "      <td id=\"T_be80c_row2_col1\" class=\"data row2 col1\" >503.4360</td>\n",
       "      <td id=\"T_be80c_row2_col2\" class=\"data row2 col2\" >335.6052</td>\n",
       "    </tr>\n",
       "    <tr>\n",
       "      <td id=\"T_be80c_row3_col0\" class=\"data row3 col0\" >Prob (F-statistic)</td>\n",
       "      <td id=\"T_be80c_row3_col1\" class=\"data row3 col1\" >0.0000</td>\n",
       "      <td id=\"T_be80c_row3_col2\" class=\"data row3 col2\" >0.0000</td>\n",
       "    </tr>\n",
       "    <tr>\n",
       "      <td id=\"T_be80c_row4_col0\" class=\"data row4 col0\" >Log-Likelihood</td>\n",
       "      <td id=\"T_be80c_row4_col1\" class=\"data row4 col1\" >-1575.4053</td>\n",
       "      <td id=\"T_be80c_row4_col2\" class=\"data row4 col2\" >-1575.0569</td>\n",
       "    </tr>\n",
       "    <tr>\n",
       "      <td id=\"T_be80c_row5_col0\" class=\"data row5 col0\" >AIC</td>\n",
       "      <td id=\"T_be80c_row5_col1\" class=\"data row5 col1\" >3156.8105</td>\n",
       "      <td id=\"T_be80c_row5_col2\" class=\"data row5 col2\" >3158.1138</td>\n",
       "    </tr>\n",
       "    <tr>\n",
       "      <td id=\"T_be80c_row6_col0\" class=\"data row6 col0\" >BIC</td>\n",
       "      <td id=\"T_be80c_row6_col1\" class=\"data row6 col1\" >3168.9313</td>\n",
       "      <td id=\"T_be80c_row6_col2\" class=\"data row6 col2\" >3174.2748</td>\n",
       "    </tr>\n",
       "    <tr>\n",
       "      <td id=\"T_be80c_row7_col0\" class=\"data row7 col0\" >Coefficient (const)</td>\n",
       "      <td id=\"T_be80c_row7_col1\" class=\"data row7 col1\" >638.9260***</td>\n",
       "      <td id=\"T_be80c_row7_col2\" class=\"data row7 col2\" >642.3197***</td>\n",
       "    </tr>\n",
       "    <tr>\n",
       "      <td id=\"T_be80c_row8_col0\" class=\"data row8 col0\" >Coefficient (english)</td>\n",
       "      <td id=\"T_be80c_row8_col1\" class=\"data row8 col1\" >-0.4892***</td>\n",
       "      <td id=\"T_be80c_row8_col2\" class=\"data row8 col2\" >-0.4885***</td>\n",
       "    </tr>\n",
       "    <tr>\n",
       "      <td id=\"T_be80c_row9_col0\" class=\"data row9 col0\" >Coefficient (expenditure)</td>\n",
       "      <td id=\"T_be80c_row9_col1\" class=\"data row9 col1\" ></td>\n",
       "      <td id=\"T_be80c_row9_col2\" class=\"data row9 col2\" >-0.0007</td>\n",
       "    </tr>\n",
       "    <tr>\n",
       "      <td id=\"T_be80c_row10_col0\" class=\"data row10 col0\" >Coefficient (income)</td>\n",
       "      <td id=\"T_be80c_row10_col1\" class=\"data row10 col1\" >1.4980***</td>\n",
       "      <td id=\"T_be80c_row10_col2\" class=\"data row10 col2\" >1.5178***</td>\n",
       "    </tr>\n",
       "  </tbody>\n",
       "</table>\n",
       "<p>Note: *** < 0.001, ** < 0.01, * < 0.05, . < 0.1 </p>"
      ],
      "text/plain": [
       "<IPython.core.display.HTML object>"
      ]
     },
     "metadata": {},
     "output_type": "display_data"
    }
   ],
   "source": [
    "model2.compare(model1)"
   ]
  },
  {
   "cell_type": "code",
   "execution_count": 7,
   "metadata": {
    "tags": []
   },
   "outputs": [],
   "source": [
    "df[\"TSR\"] = df[\"teachers\"]/df[\"students\"]\n",
    "df[\"\"\n",
    "b = GuidedStats(df)"
   ]
  },
  {
   "cell_type": "code",
   "execution_count": 8,
   "metadata": {
    "tags": []
   },
   "outputs": [
    {
     "data": {
      "application/vnd.jupyter.widget-view+json": {
       "model_id": "b18470211bdf4cddb369dd67630f1599",
       "version_major": 2,
       "version_minor": 0
      },
      "text/plain": [
       "GuidedStats(builtinAssumptions=['Outliers Checking', 'Levene Test', 'Normality Test', 'Multicollinearity Test'…"
      ]
     },
     "execution_count": 8,
     "metadata": {},
     "output_type": "execute_result"
    }
   ],
   "source": [
    "b"
   ]
  },
  {
   "cell_type": "code",
   "execution_count": 4,
   "metadata": {
    "tags": []
   },
   "outputs": [
    {
     "data": {
      "text/html": [
       "<style type=\"text/css\">\n",
       "#T_27836 th {\n",
       "  font-size: 12pt;\n",
       "  text-align: center;\n",
       "  border-style: solid;\n",
       "  border-width: 1px;\n",
       "}\n",
       "#T_27836 td {\n",
       "  text-align: right;\n",
       "  border-style: solid;\n",
       "  border-width: 1px;\n",
       "}\n",
       "#T_27836_row0_col0, #T_27836_row1_col0, #T_27836_row2_col0, #T_27836_row3_col0, #T_27836_row4_col0, #T_27836_row5_col0, #T_27836_row6_col0, #T_27836_row7_col0, #T_27836_row8_col0, #T_27836_row9_col0 {\n",
       "  text-align: left;\n",
       "  font-weight: bold;\n",
       "}\n",
       "#T_27836_row0_col1, #T_27836_row0_col2, #T_27836_row1_col1, #T_27836_row1_col2, #T_27836_row2_col1, #T_27836_row2_col2, #T_27836_row3_col1, #T_27836_row3_col2, #T_27836_row4_col1, #T_27836_row4_col2, #T_27836_row5_col1, #T_27836_row5_col2, #T_27836_row6_col1, #T_27836_row6_col2 {\n",
       "  text-align: right;\n",
       "}\n",
       "#T_27836_row7_col1, #T_27836_row7_col2, #T_27836_row8_col1, #T_27836_row8_col2, #T_27836_row9_col1, #T_27836_row9_col2 {\n",
       "  font-weight: bold;\n",
       "  text-align: right;\n",
       "}\n",
       "</style>\n",
       "<table id=\"T_27836\">\n",
       "  <caption>Model Comparison</caption>\n",
       "  <thead>\n",
       "    <tr>\n",
       "      <th id=\"T_27836_level0_col0\" class=\"col_heading level0 col0\" >Metric</th>\n",
       "      <th id=\"T_27836_level0_col1\" class=\"col_heading level0 col1\" >Model 1</th>\n",
       "      <th id=\"T_27836_level0_col2\" class=\"col_heading level0 col2\" >Model 2</th>\n",
       "    </tr>\n",
       "  </thead>\n",
       "  <tbody>\n",
       "    <tr>\n",
       "      <td id=\"T_27836_row0_col0\" class=\"data row0 col0\" >R-squared</td>\n",
       "      <td id=\"T_27836_row0_col1\" class=\"data row0 col1\" >0.8564</td>\n",
       "      <td id=\"T_27836_row0_col2\" class=\"data row0 col2\" >0.8564</td>\n",
       "    </tr>\n",
       "    <tr>\n",
       "      <td id=\"T_27836_row1_col0\" class=\"data row1 col0\" >Adjusted R-squared</td>\n",
       "      <td id=\"T_27836_row1_col1\" class=\"data row1 col1\" >0.8557</td>\n",
       "      <td id=\"T_27836_row1_col2\" class=\"data row1 col2\" >0.8557</td>\n",
       "    </tr>\n",
       "    <tr>\n",
       "      <td id=\"T_27836_row2_col0\" class=\"data row2 col0\" >F-statistic</td>\n",
       "      <td id=\"T_27836_row2_col1\" class=\"data row2 col1\" >1243.2360</td>\n",
       "      <td id=\"T_27836_row2_col2\" class=\"data row2 col2\" >1243.2360</td>\n",
       "    </tr>\n",
       "    <tr>\n",
       "      <td id=\"T_27836_row3_col0\" class=\"data row3 col0\" >Prob (F-statistic)</td>\n",
       "      <td id=\"T_27836_row3_col1\" class=\"data row3 col1\" >0.0000</td>\n",
       "      <td id=\"T_27836_row3_col2\" class=\"data row3 col2\" >0.0000</td>\n",
       "    </tr>\n",
       "    <tr>\n",
       "      <td id=\"T_27836_row4_col0\" class=\"data row4 col0\" >Log-Likelihood</td>\n",
       "      <td id=\"T_27836_row4_col1\" class=\"data row4 col1\" >-1419.1281</td>\n",
       "      <td id=\"T_27836_row4_col2\" class=\"data row4 col2\" >-1419.1281</td>\n",
       "    </tr>\n",
       "    <tr>\n",
       "      <td id=\"T_27836_row5_col0\" class=\"data row5 col0\" >AIC</td>\n",
       "      <td id=\"T_27836_row5_col1\" class=\"data row5 col1\" >2844.2561</td>\n",
       "      <td id=\"T_27836_row5_col2\" class=\"data row5 col2\" >2844.2561</td>\n",
       "    </tr>\n",
       "    <tr>\n",
       "      <td id=\"T_27836_row6_col0\" class=\"data row6 col0\" >BIC</td>\n",
       "      <td id=\"T_27836_row6_col1\" class=\"data row6 col1\" >2856.3769</td>\n",
       "      <td id=\"T_27836_row6_col2\" class=\"data row6 col2\" >2856.3769</td>\n",
       "    </tr>\n",
       "    <tr>\n",
       "      <td id=\"T_27836_row7_col0\" class=\"data row7 col0\" >Coefficient (computer)</td>\n",
       "      <td id=\"T_27836_row7_col1\" class=\"data row7 col1\" >0.0029***</td>\n",
       "      <td id=\"T_27836_row7_col2\" class=\"data row7 col2\" >0.0029***</td>\n",
       "    </tr>\n",
       "    <tr>\n",
       "      <td id=\"T_27836_row8_col0\" class=\"data row8 col0\" >Coefficient (read)</td>\n",
       "      <td id=\"T_27836_row8_col1\" class=\"data row8 col1\" >0.8677***</td>\n",
       "      <td id=\"T_27836_row8_col2\" class=\"data row8 col2\" >0.8677***</td>\n",
       "    </tr>\n",
       "    <tr>\n",
       "      <td id=\"T_27836_row9_col0\" class=\"data row9 col0\" >Coefficient (const)</td>\n",
       "      <td id=\"T_27836_row9_col1\" class=\"data row9 col1\" >84.1242***</td>\n",
       "      <td id=\"T_27836_row9_col2\" class=\"data row9 col2\" >84.1242***</td>\n",
       "    </tr>\n",
       "  </tbody>\n",
       "</table>\n",
       "<p>Note: *** < 0.001, ** < 0.01, * < 0.05, . < 0.1 </p>"
      ],
      "text/plain": [
       "<IPython.core.display.HTML object>"
      ]
     },
     "metadata": {},
     "output_type": "display_data"
    }
   ],
   "source": [
    "a.export(\"model\").compare(a.export(\"model\"))"
   ]
  },
  {
   "cell_type": "code",
   "execution_count": 12,
   "metadata": {
    "tags": []
   },
   "outputs": [
    {
     "data": {
      "text/plain": [
       "{'stats': {'params': const       84.124209\n",
       "  read         0.867727\n",
       "  computer     0.002909\n",
       "  dtype: float64,\n",
       "  'pvalues': const        1.025947e-12\n",
       "  read        1.008200e-177\n",
       "  computer     2.769920e-04\n",
       "  dtype: float64,\n",
       "  'rsquared': 0.8563788476413837,\n",
       "  'rsquared_adj': 0.8556900171744359,\n",
       "  'fvalue': 1243.2360192138258,\n",
       "  'f_pvalue': 1.9056268424935008e-176,\n",
       "  'llf': -1419.1280520495902,\n",
       "  'aic': 2844.2561040991804,\n",
       "  'bic': 2856.376868233013}}"
      ]
     },
     "execution_count": 12,
     "metadata": {},
     "output_type": "execute_result"
    }
   ],
   "source": [
    "a.export(\"model\")._results.__dict__"
   ]
  },
  {
   "cell_type": "raw",
   "metadata": {},
   "source": [
    "a.export(\"report\")"
   ]
  },
  {
   "cell_type": "code",
   "execution_count": 18,
   "metadata": {},
   "outputs": [
    {
     "data": {
      "text/html": [
       "<div>\n",
       "<style scoped>\n",
       "    .dataframe tbody tr th:only-of-type {\n",
       "        vertical-align: middle;\n",
       "    }\n",
       "\n",
       "    .dataframe tbody tr th {\n",
       "        vertical-align: top;\n",
       "    }\n",
       "\n",
       "    .dataframe thead th {\n",
       "        text-align: right;\n",
       "    }\n",
       "</style>\n",
       "<table border=\"1\" class=\"dataframe\">\n",
       "  <thead>\n",
       "    <tr style=\"text-align: right;\">\n",
       "      <th></th>\n",
       "      <th>mpg</th>\n",
       "      <th>cylinders</th>\n",
       "      <th>displacement</th>\n",
       "      <th>horsepower</th>\n",
       "      <th>weight</th>\n",
       "      <th>acceleration</th>\n",
       "      <th>model year</th>\n",
       "      <th>origin</th>\n",
       "      <th>car name</th>\n",
       "    </tr>\n",
       "  </thead>\n",
       "  <tbody>\n",
       "    <tr>\n",
       "      <th>0</th>\n",
       "      <td>18.0</td>\n",
       "      <td>8</td>\n",
       "      <td>307.0</td>\n",
       "      <td>130</td>\n",
       "      <td>3504</td>\n",
       "      <td>12.0</td>\n",
       "      <td>70</td>\n",
       "      <td>1</td>\n",
       "      <td>chevrolet chevelle malibu</td>\n",
       "    </tr>\n",
       "    <tr>\n",
       "      <th>1</th>\n",
       "      <td>15.0</td>\n",
       "      <td>8</td>\n",
       "      <td>350.0</td>\n",
       "      <td>165</td>\n",
       "      <td>3693</td>\n",
       "      <td>11.5</td>\n",
       "      <td>70</td>\n",
       "      <td>1</td>\n",
       "      <td>buick skylark 320</td>\n",
       "    </tr>\n",
       "    <tr>\n",
       "      <th>2</th>\n",
       "      <td>18.0</td>\n",
       "      <td>8</td>\n",
       "      <td>318.0</td>\n",
       "      <td>150</td>\n",
       "      <td>3436</td>\n",
       "      <td>11.0</td>\n",
       "      <td>70</td>\n",
       "      <td>1</td>\n",
       "      <td>plymouth satellite</td>\n",
       "    </tr>\n",
       "    <tr>\n",
       "      <th>3</th>\n",
       "      <td>16.0</td>\n",
       "      <td>8</td>\n",
       "      <td>304.0</td>\n",
       "      <td>150</td>\n",
       "      <td>3433</td>\n",
       "      <td>12.0</td>\n",
       "      <td>70</td>\n",
       "      <td>1</td>\n",
       "      <td>amc rebel sst</td>\n",
       "    </tr>\n",
       "    <tr>\n",
       "      <th>4</th>\n",
       "      <td>17.0</td>\n",
       "      <td>8</td>\n",
       "      <td>302.0</td>\n",
       "      <td>140</td>\n",
       "      <td>3449</td>\n",
       "      <td>10.5</td>\n",
       "      <td>70</td>\n",
       "      <td>1</td>\n",
       "      <td>ford torino</td>\n",
       "    </tr>\n",
       "    <tr>\n",
       "      <th>...</th>\n",
       "      <td>...</td>\n",
       "      <td>...</td>\n",
       "      <td>...</td>\n",
       "      <td>...</td>\n",
       "      <td>...</td>\n",
       "      <td>...</td>\n",
       "      <td>...</td>\n",
       "      <td>...</td>\n",
       "      <td>...</td>\n",
       "    </tr>\n",
       "    <tr>\n",
       "      <th>393</th>\n",
       "      <td>27.0</td>\n",
       "      <td>4</td>\n",
       "      <td>140.0</td>\n",
       "      <td>86</td>\n",
       "      <td>2790</td>\n",
       "      <td>15.6</td>\n",
       "      <td>82</td>\n",
       "      <td>1</td>\n",
       "      <td>ford mustang gl</td>\n",
       "    </tr>\n",
       "    <tr>\n",
       "      <th>394</th>\n",
       "      <td>44.0</td>\n",
       "      <td>4</td>\n",
       "      <td>97.0</td>\n",
       "      <td>52</td>\n",
       "      <td>2130</td>\n",
       "      <td>24.6</td>\n",
       "      <td>82</td>\n",
       "      <td>2</td>\n",
       "      <td>vw pickup</td>\n",
       "    </tr>\n",
       "    <tr>\n",
       "      <th>395</th>\n",
       "      <td>32.0</td>\n",
       "      <td>4</td>\n",
       "      <td>135.0</td>\n",
       "      <td>84</td>\n",
       "      <td>2295</td>\n",
       "      <td>11.6</td>\n",
       "      <td>82</td>\n",
       "      <td>1</td>\n",
       "      <td>dodge rampage</td>\n",
       "    </tr>\n",
       "    <tr>\n",
       "      <th>396</th>\n",
       "      <td>28.0</td>\n",
       "      <td>4</td>\n",
       "      <td>120.0</td>\n",
       "      <td>79</td>\n",
       "      <td>2625</td>\n",
       "      <td>18.6</td>\n",
       "      <td>82</td>\n",
       "      <td>1</td>\n",
       "      <td>ford ranger</td>\n",
       "    </tr>\n",
       "    <tr>\n",
       "      <th>397</th>\n",
       "      <td>31.0</td>\n",
       "      <td>4</td>\n",
       "      <td>119.0</td>\n",
       "      <td>82</td>\n",
       "      <td>2720</td>\n",
       "      <td>19.4</td>\n",
       "      <td>82</td>\n",
       "      <td>1</td>\n",
       "      <td>chevy s-10</td>\n",
       "    </tr>\n",
       "  </tbody>\n",
       "</table>\n",
       "<p>398 rows × 9 columns</p>\n",
       "</div>"
      ],
      "text/plain": [
       "      mpg  cylinders  displacement horsepower  weight  acceleration  \\\n",
       "0    18.0          8         307.0        130    3504          12.0   \n",
       "1    15.0          8         350.0        165    3693          11.5   \n",
       "2    18.0          8         318.0        150    3436          11.0   \n",
       "3    16.0          8         304.0        150    3433          12.0   \n",
       "4    17.0          8         302.0        140    3449          10.5   \n",
       "..    ...        ...           ...        ...     ...           ...   \n",
       "393  27.0          4         140.0         86    2790          15.6   \n",
       "394  44.0          4          97.0         52    2130          24.6   \n",
       "395  32.0          4         135.0         84    2295          11.6   \n",
       "396  28.0          4         120.0         79    2625          18.6   \n",
       "397  31.0          4         119.0         82    2720          19.4   \n",
       "\n",
       "     model year  origin                   car name  \n",
       "0            70       1  chevrolet chevelle malibu  \n",
       "1            70       1          buick skylark 320  \n",
       "2            70       1         plymouth satellite  \n",
       "3            70       1              amc rebel sst  \n",
       "4            70       1                ford torino  \n",
       "..          ...     ...                        ...  \n",
       "393          82       1            ford mustang gl  \n",
       "394          82       2                  vw pickup  \n",
       "395          82       1              dodge rampage  \n",
       "396          82       1                ford ranger  \n",
       "397          82       1                 chevy s-10  \n",
       "\n",
       "[398 rows x 9 columns]"
      ]
     },
     "execution_count": 18,
     "metadata": {},
     "output_type": "execute_result"
    }
   ],
   "source": [
    "a.export(\"dataset\")"
   ]
  },
  {
   "cell_type": "code",
   "execution_count": 19,
   "metadata": {},
   "outputs": [],
   "source": [
    "model1 = a.export(\"model\")"
   ]
  },
  {
   "cell_type": "code",
   "execution_count": 22,
   "metadata": {},
   "outputs": [
    {
     "data": {
      "text/plain": [
       "<statsmodels.regression.linear_model.OLS at 0x298668350>"
      ]
     },
     "execution_count": 22,
     "metadata": {},
     "output_type": "execute_result"
    }
   ],
   "source": [
    "model1.fittedModel"
   ]
  },
  {
   "cell_type": "code",
   "execution_count": 8,
   "metadata": {
    "scrolled": true
   },
   "outputs": [
    {
     "data": {
      "application/vnd.jupyter.widget-view+json": {
       "model_id": "10bc782be2fa4e6091a74f874de76f1f",
       "version_major": 2,
       "version_minor": 0
      },
      "text/plain": [
       "GuidedStats(builtinAssumptions=['Outliers Checking', 'Levene Test', 'Normality Test', 'Multicollinearity Test'…"
      ]
     },
     "execution_count": 8,
     "metadata": {},
     "output_type": "execute_result"
    }
   ],
   "source": [
    "b = GuidedStats(df)\n",
    "b"
   ]
  },
  {
   "cell_type": "code",
   "execution_count": 9,
   "metadata": {},
   "outputs": [],
   "source": [
    "model2 = b.export(\"model\")"
   ]
  },
  {
   "cell_type": "code",
   "execution_count": 20,
   "metadata": {},
   "outputs": [
    {
     "data": {
      "text/html": [
       "<style type=\"text/css\">\n",
       "#T_0c0c4 th {\n",
       "  font-size: 12pt;\n",
       "  text-align: center;\n",
       "  border-style: solid;\n",
       "  border-width: 1px;\n",
       "}\n",
       "#T_0c0c4 td {\n",
       "  text-align: right;\n",
       "  border-style: solid;\n",
       "  border-width: 1px;\n",
       "}\n",
       "#T_0c0c4_row0_col0, #T_0c0c4_row1_col0, #T_0c0c4_row2_col0, #T_0c0c4_row3_col0, #T_0c0c4_row4_col0, #T_0c0c4_row5_col0, #T_0c0c4_row6_col0, #T_0c0c4_row7_col0, #T_0c0c4_row8_col0, #T_0c0c4_row9_col0, #T_0c0c4_row10_col0, #T_0c0c4_row11_col0 {\n",
       "  text-align: left;\n",
       "  font-weight: bold;\n",
       "}\n",
       "#T_0c0c4_row0_col1, #T_0c0c4_row0_col2, #T_0c0c4_row1_col1, #T_0c0c4_row1_col2, #T_0c0c4_row2_col1, #T_0c0c4_row2_col2, #T_0c0c4_row3_col1, #T_0c0c4_row3_col2, #T_0c0c4_row4_col1, #T_0c0c4_row4_col2, #T_0c0c4_row5_col1, #T_0c0c4_row5_col2, #T_0c0c4_row6_col1, #T_0c0c4_row6_col2, #T_0c0c4_row7_col1, #T_0c0c4_row8_col1, #T_0c0c4_row8_col2, #T_0c0c4_row9_col1, #T_0c0c4_row9_col2 {\n",
       "  text-align: right;\n",
       "}\n",
       "#T_0c0c4_row7_col2, #T_0c0c4_row10_col1, #T_0c0c4_row10_col2, #T_0c0c4_row11_col1, #T_0c0c4_row11_col2 {\n",
       "  font-weight: bold;\n",
       "  text-align: right;\n",
       "}\n",
       "</style>\n",
       "<table id=\"T_0c0c4\">\n",
       "  <caption>Model Comparison</caption>\n",
       "  <thead>\n",
       "    <tr>\n",
       "      <th id=\"T_0c0c4_level0_col0\" class=\"col_heading level0 col0\" >Metric</th>\n",
       "      <th id=\"T_0c0c4_level0_col1\" class=\"col_heading level0 col1\" >Model 1</th>\n",
       "      <th id=\"T_0c0c4_level0_col2\" class=\"col_heading level0 col2\" >Model 2</th>\n",
       "    </tr>\n",
       "  </thead>\n",
       "  <tbody>\n",
       "    <tr>\n",
       "      <td id=\"T_0c0c4_row0_col0\" class=\"data row0 col0\" >R-squared</td>\n",
       "      <td id=\"T_0c0c4_row0_col1\" class=\"data row0 col1\" >0.6888</td>\n",
       "      <td id=\"T_0c0c4_row0_col2\" class=\"data row0 col2\" >0.8652</td>\n",
       "    </tr>\n",
       "    <tr>\n",
       "      <td id=\"T_0c0c4_row1_col0\" class=\"data row1 col0\" >Adjusted R-squared</td>\n",
       "      <td id=\"T_0c0c4_row1_col1\" class=\"data row1 col1\" >0.6858</td>\n",
       "      <td id=\"T_0c0c4_row1_col2\" class=\"data row1 col2\" >0.8639</td>\n",
       "    </tr>\n",
       "    <tr>\n",
       "      <td id=\"T_0c0c4_row2_col0\" class=\"data row2 col0\" >F-statistic</td>\n",
       "      <td id=\"T_0c0c4_row2_col1\" class=\"data row2 col1\" >231.6694</td>\n",
       "      <td id=\"T_0c0c4_row2_col2\" class=\"data row2 col2\" >671.9724</td>\n",
       "    </tr>\n",
       "    <tr>\n",
       "      <td id=\"T_0c0c4_row3_col0\" class=\"data row3 col0\" >Prob (F-statistic)</td>\n",
       "      <td id=\"T_0c0c4_row3_col1\" class=\"data row3 col1\" >0.0000</td>\n",
       "      <td id=\"T_0c0c4_row3_col2\" class=\"data row3 col2\" >0.0000</td>\n",
       "    </tr>\n",
       "    <tr>\n",
       "      <td id=\"T_0c0c4_row4_col0\" class=\"data row4 col0\" >Log-Likelihood</td>\n",
       "      <td id=\"T_0c0c4_row4_col1\" class=\"data row4 col1\" >-913.6175</td>\n",
       "      <td id=\"T_0c0c4_row4_col2\" class=\"data row4 col2\" >233.2715</td>\n",
       "    </tr>\n",
       "    <tr>\n",
       "      <td id=\"T_0c0c4_row5_col0\" class=\"data row5 col0\" >AIC</td>\n",
       "      <td id=\"T_0c0c4_row5_col1\" class=\"data row5 col1\" >1835.2351</td>\n",
       "      <td id=\"T_0c0c4_row5_col2\" class=\"data row5 col2\" >-458.5429</td>\n",
       "    </tr>\n",
       "    <tr>\n",
       "      <td id=\"T_0c0c4_row6_col0\" class=\"data row6 col0\" >BIC</td>\n",
       "      <td id=\"T_0c0c4_row6_col1\" class=\"data row6 col1\" >1850.2833</td>\n",
       "      <td id=\"T_0c0c4_row6_col2\" class=\"data row6 col2\" >-443.4947</td>\n",
       "    </tr>\n",
       "    <tr>\n",
       "      <td id=\"T_0c0c4_row7_col0\" class=\"data row7 col0\" >Coefficient (model year)</td>\n",
       "      <td id=\"T_0c0c4_row7_col1\" class=\"data row7 col1\" ></td>\n",
       "      <td id=\"T_0c0c4_row7_col2\" class=\"data row7 col2\" >0.0288***</td>\n",
       "    </tr>\n",
       "    <tr>\n",
       "      <td id=\"T_0c0c4_row8_col0\" class=\"data row8 col0\" >Coefficient (acceleration)</td>\n",
       "      <td id=\"T_0c0c4_row8_col1\" class=\"data row8 col1\" >0.0584</td>\n",
       "      <td id=\"T_0c0c4_row8_col2\" class=\"data row8 col2\" ></td>\n",
       "    </tr>\n",
       "    <tr>\n",
       "      <td id=\"T_0c0c4_row9_col0\" class=\"data row9 col0\" >Coefficient (displacement)</td>\n",
       "      <td id=\"T_0c0c4_row9_col1\" class=\"data row9 col1\" >-0.0158*</td>\n",
       "      <td id=\"T_0c0c4_row9_col2\" class=\"data row9 col2\" >-0.0002</td>\n",
       "    </tr>\n",
       "    <tr>\n",
       "      <td id=\"T_0c0c4_row10_col0\" class=\"data row10 col0\" >Coefficient (const)</td>\n",
       "      <td id=\"T_0c0c4_row10_col1\" class=\"data row10 col1\" >42.4542***</td>\n",
       "      <td id=\"T_0c0c4_row10_col2\" class=\"data row10 col2\" >1.8092***</td>\n",
       "    </tr>\n",
       "    <tr>\n",
       "      <td id=\"T_0c0c4_row11_col0\" class=\"data row11 col0\" >Coefficient (weight)</td>\n",
       "      <td id=\"T_0c0c4_row11_col1\" class=\"data row11 col1\" >-0.0057***</td>\n",
       "      <td id=\"T_0c0c4_row11_col2\" class=\"data row11 col2\" >-0.0003***</td>\n",
       "    </tr>\n",
       "  </tbody>\n",
       "</table>\n"
      ],
      "text/plain": [
       "<IPython.core.display.HTML object>"
      ]
     },
     "metadata": {},
     "output_type": "display_data"
    }
   ],
   "source": [
    "model1.compare(model2)"
   ]
  },
  {
   "cell_type": "code",
   "execution_count": 14,
   "metadata": {},
   "outputs": [
    {
     "data": {
      "text/html": [
       "<table class=\"simpletable\">\n",
       "<caption>OLS Regression Results</caption>\n",
       "<tr>\n",
       "  <th>Dep. Variable:</th>           <td>mpg</td>       <th>  R-squared:         </th> <td>   0.701</td>\n",
       "</tr>\n",
       "<tr>\n",
       "  <th>Model:</th>                   <td>OLS</td>       <th>  Adj. R-squared:    </th> <td>   0.698</td>\n",
       "</tr>\n",
       "<tr>\n",
       "  <th>Method:</th>             <td>Least Squares</td>  <th>  F-statistic:       </th> <td>   244.8</td>\n",
       "</tr>\n",
       "<tr>\n",
       "  <th>Date:</th>             <td>Mon, 29 Jan 2024</td> <th>  Prob (F-statistic):</th> <td>7.25e-82</td>\n",
       "</tr>\n",
       "<tr>\n",
       "  <th>Time:</th>                 <td>12:56:03</td>     <th>  Log-Likelihood:    </th> <td> -908.77</td>\n",
       "</tr>\n",
       "<tr>\n",
       "  <th>No. Observations:</th>      <td>   318</td>      <th>  AIC:               </th> <td>   1826.</td>\n",
       "</tr>\n",
       "<tr>\n",
       "  <th>Df Residuals:</th>          <td>   314</td>      <th>  BIC:               </th> <td>   1841.</td>\n",
       "</tr>\n",
       "<tr>\n",
       "  <th>Df Model:</th>              <td>     3</td>      <th>                     </th>     <td> </td>   \n",
       "</tr>\n",
       "<tr>\n",
       "  <th>Covariance Type:</th>      <td>nonrobust</td>    <th>                     </th>     <td> </td>   \n",
       "</tr>\n",
       "</table>\n",
       "<table class=\"simpletable\">\n",
       "<tr>\n",
       "        <td></td>          <th>coef</th>     <th>std err</th>      <th>t</th>      <th>P>|t|</th>  <th>[0.025</th>    <th>0.975]</th>  \n",
       "</tr>\n",
       "<tr>\n",
       "  <th>const</th>        <td>   41.3583</td> <td>    2.148</td> <td>   19.251</td> <td> 0.000</td> <td>   37.131</td> <td>   45.585</td>\n",
       "</tr>\n",
       "<tr>\n",
       "  <th>weight</th>       <td>   -0.0065</td> <td>    0.001</td> <td>  -10.160</td> <td> 0.000</td> <td>   -0.008</td> <td>   -0.005</td>\n",
       "</tr>\n",
       "<tr>\n",
       "  <th>cylinders</th>    <td>   -0.5084</td> <td>    0.334</td> <td>   -1.523</td> <td> 0.129</td> <td>   -1.165</td> <td>    0.149</td>\n",
       "</tr>\n",
       "<tr>\n",
       "  <th>acceleration</th> <td>    0.2635</td> <td>    0.099</td> <td>    2.662</td> <td> 0.008</td> <td>    0.069</td> <td>    0.458</td>\n",
       "</tr>\n",
       "</table>\n",
       "<table class=\"simpletable\">\n",
       "<tr>\n",
       "  <th>Omnibus:</th>       <td>23.324</td> <th>  Durbin-Watson:     </th> <td>   2.150</td>\n",
       "</tr>\n",
       "<tr>\n",
       "  <th>Prob(Omnibus):</th> <td> 0.000</td> <th>  Jarque-Bera (JB):  </th> <td>  28.168</td>\n",
       "</tr>\n",
       "<tr>\n",
       "  <th>Skew:</th>          <td> 0.598</td> <th>  Prob(JB):          </th> <td>7.65e-07</td>\n",
       "</tr>\n",
       "<tr>\n",
       "  <th>Kurtosis:</th>      <td> 3.834</td> <th>  Cond. No.          </th> <td>2.77e+04</td>\n",
       "</tr>\n",
       "</table><br/><br/>Notes:<br/>[1] Standard Errors assume that the covariance matrix of the errors is correctly specified.<br/>[2] The condition number is large, 2.77e+04. This might indicate that there are<br/>strong multicollinearity or other numerical problems."
      ],
      "text/latex": [
       "\\begin{center}\n",
       "\\begin{tabular}{lclc}\n",
       "\\toprule\n",
       "\\textbf{Dep. Variable:}    &       mpg        & \\textbf{  R-squared:         } &     0.701   \\\\\n",
       "\\textbf{Model:}            &       OLS        & \\textbf{  Adj. R-squared:    } &     0.698   \\\\\n",
       "\\textbf{Method:}           &  Least Squares   & \\textbf{  F-statistic:       } &     244.8   \\\\\n",
       "\\textbf{Date:}             & Mon, 29 Jan 2024 & \\textbf{  Prob (F-statistic):} &  7.25e-82   \\\\\n",
       "\\textbf{Time:}             &     12:56:03     & \\textbf{  Log-Likelihood:    } &   -908.77   \\\\\n",
       "\\textbf{No. Observations:} &         318      & \\textbf{  AIC:               } &     1826.   \\\\\n",
       "\\textbf{Df Residuals:}     &         314      & \\textbf{  BIC:               } &     1841.   \\\\\n",
       "\\textbf{Df Model:}         &           3      & \\textbf{                     } &             \\\\\n",
       "\\textbf{Covariance Type:}  &    nonrobust     & \\textbf{                     } &             \\\\\n",
       "\\bottomrule\n",
       "\\end{tabular}\n",
       "\\begin{tabular}{lcccccc}\n",
       "                      & \\textbf{coef} & \\textbf{std err} & \\textbf{t} & \\textbf{P$> |$t$|$} & \\textbf{[0.025} & \\textbf{0.975]}  \\\\\n",
       "\\midrule\n",
       "\\textbf{const}        &      41.3583  &        2.148     &    19.251  &         0.000        &       37.131    &       45.585     \\\\\n",
       "\\textbf{weight}       &      -0.0065  &        0.001     &   -10.160  &         0.000        &       -0.008    &       -0.005     \\\\\n",
       "\\textbf{cylinders}    &      -0.5084  &        0.334     &    -1.523  &         0.129        &       -1.165    &        0.149     \\\\\n",
       "\\textbf{acceleration} &       0.2635  &        0.099     &     2.662  &         0.008        &        0.069    &        0.458     \\\\\n",
       "\\bottomrule\n",
       "\\end{tabular}\n",
       "\\begin{tabular}{lclc}\n",
       "\\textbf{Omnibus:}       & 23.324 & \\textbf{  Durbin-Watson:     } &    2.150  \\\\\n",
       "\\textbf{Prob(Omnibus):} &  0.000 & \\textbf{  Jarque-Bera (JB):  } &   28.168  \\\\\n",
       "\\textbf{Skew:}          &  0.598 & \\textbf{  Prob(JB):          } & 7.65e-07  \\\\\n",
       "\\textbf{Kurtosis:}      &  3.834 & \\textbf{  Cond. No.          } & 2.77e+04  \\\\\n",
       "\\bottomrule\n",
       "\\end{tabular}\n",
       "%\\caption{OLS Regression Results}\n",
       "\\end{center}\n",
       "\n",
       "Notes: \\newline\n",
       " [1] Standard Errors assume that the covariance matrix of the errors is correctly specified. \\newline\n",
       " [2] The condition number is large, 2.77e+04. This might indicate that there are \\newline\n",
       " strong multicollinearity or other numerical problems."
      ],
      "text/plain": [
       "<class 'statsmodels.iolib.summary.Summary'>\n",
       "\"\"\"\n",
       "                            OLS Regression Results                            \n",
       "==============================================================================\n",
       "Dep. Variable:                    mpg   R-squared:                       0.701\n",
       "Model:                            OLS   Adj. R-squared:                  0.698\n",
       "Method:                 Least Squares   F-statistic:                     244.8\n",
       "Date:                Mon, 29 Jan 2024   Prob (F-statistic):           7.25e-82\n",
       "Time:                        12:56:03   Log-Likelihood:                -908.77\n",
       "No. Observations:                 318   AIC:                             1826.\n",
       "Df Residuals:                     314   BIC:                             1841.\n",
       "Df Model:                           3                                         \n",
       "Covariance Type:            nonrobust                                         \n",
       "================================================================================\n",
       "                   coef    std err          t      P>|t|      [0.025      0.975]\n",
       "--------------------------------------------------------------------------------\n",
       "const           41.3583      2.148     19.251      0.000      37.131      45.585\n",
       "weight          -0.0065      0.001    -10.160      0.000      -0.008      -0.005\n",
       "cylinders       -0.5084      0.334     -1.523      0.129      -1.165       0.149\n",
       "acceleration     0.2635      0.099      2.662      0.008       0.069       0.458\n",
       "==============================================================================\n",
       "Omnibus:                       23.324   Durbin-Watson:                   2.150\n",
       "Prob(Omnibus):                  0.000   Jarque-Bera (JB):               28.168\n",
       "Skew:                           0.598   Prob(JB):                     7.65e-07\n",
       "Kurtosis:                       3.834   Cond. No.                     2.77e+04\n",
       "==============================================================================\n",
       "\n",
       "Notes:\n",
       "[1] Standard Errors assume that the covariance matrix of the errors is correctly specified.\n",
       "[2] The condition number is large, 2.77e+04. This might indicate that there are\n",
       "strong multicollinearity or other numerical problems.\n",
       "\"\"\""
      ]
     },
     "execution_count": 14,
     "metadata": {},
     "output_type": "execute_result"
    }
   ],
   "source": [
    "model1._results.summary()"
   ]
  },
  {
   "cell_type": "code",
   "execution_count": 26,
   "metadata": {},
   "outputs": [
    {
     "data": {
      "application/vnd.jupyter.widget-view+json": {
       "model_id": "b391f6b6c41c4c84b4c4c275bfe142fd",
       "version_major": 2,
       "version_minor": 0
      },
      "text/plain": [
       "GuidedStats(builtinAssumptions=['Outliers Checking', 'Levene Test', 'Normality Test', 'Multicollinearity Test'…"
      ]
     },
     "execution_count": 26,
     "metadata": {},
     "output_type": "execute_result"
    }
   ],
   "source": [
    "df2 = pd.read_csv(\"auto-mpg.csv\")\n",
    "c = GuidedStats(df2)\n",
    "c"
   ]
  },
  {
   "cell_type": "code",
   "execution_count": 50,
   "metadata": {},
   "outputs": [],
   "source": [
    "c.workflow.callStepForward()"
   ]
  },
  {
   "cell_type": "code",
   "execution_count": 51,
   "metadata": {},
   "outputs": [
    {
     "data": {
      "text/plain": [
       "<guidedstats.step.ModelStep at 0x29b691f90>"
      ]
     },
     "execution_count": 51,
     "metadata": {},
     "output_type": "execute_result"
    }
   ],
   "source": [
    "c.workflow.currentStep"
   ]
  },
  {
   "cell_type": "code",
   "execution_count": 32,
   "metadata": {},
   "outputs": [
    {
     "data": {
      "text/plain": [
       "<guidedstats.model.ModelWrapper at 0x2995b4450>"
      ]
     },
     "execution_count": 32,
     "metadata": {},
     "output_type": "execute_result"
    }
   ],
   "source": [
    "c.export(\"model\")"
   ]
  },
  {
   "cell_type": "code",
   "execution_count": 33,
   "metadata": {},
   "outputs": [
    {
     "data": {
      "text/plain": [
       "'A two independent sample t-test was conducted to compare the groups. The results indicated that the difference between the groups was statistically significant (t(317.0) = -8.915, p < .001). The mean (SD) for group 1 was 20.08 (6.40) and for group 2 was 27.89 (6.72).'"
      ]
     },
     "execution_count": 33,
     "metadata": {},
     "output_type": "execute_result"
    }
   ],
   "source": [
    "c.export(\"report\")"
   ]
  },
  {
   "cell_type": "code",
   "execution_count": 34,
   "metadata": {},
   "outputs": [
    {
     "data": {
      "text/html": [
       "<div>\n",
       "<style scoped>\n",
       "    .dataframe tbody tr th:only-of-type {\n",
       "        vertical-align: middle;\n",
       "    }\n",
       "\n",
       "    .dataframe tbody tr th {\n",
       "        vertical-align: top;\n",
       "    }\n",
       "\n",
       "    .dataframe thead th {\n",
       "        text-align: right;\n",
       "    }\n",
       "</style>\n",
       "<table border=\"1\" class=\"dataframe\">\n",
       "  <thead>\n",
       "    <tr style=\"text-align: right;\">\n",
       "      <th></th>\n",
       "      <th>mpg</th>\n",
       "      <th>cylinders</th>\n",
       "      <th>displacement</th>\n",
       "      <th>horsepower</th>\n",
       "      <th>weight</th>\n",
       "      <th>acceleration</th>\n",
       "      <th>model year</th>\n",
       "      <th>origin</th>\n",
       "      <th>car name</th>\n",
       "    </tr>\n",
       "  </thead>\n",
       "  <tbody>\n",
       "    <tr>\n",
       "      <th>0</th>\n",
       "      <td>18.0</td>\n",
       "      <td>8</td>\n",
       "      <td>307.0</td>\n",
       "      <td>130</td>\n",
       "      <td>3504</td>\n",
       "      <td>12.0</td>\n",
       "      <td>70</td>\n",
       "      <td>1</td>\n",
       "      <td>chevrolet chevelle malibu</td>\n",
       "    </tr>\n",
       "    <tr>\n",
       "      <th>1</th>\n",
       "      <td>15.0</td>\n",
       "      <td>8</td>\n",
       "      <td>350.0</td>\n",
       "      <td>165</td>\n",
       "      <td>3693</td>\n",
       "      <td>11.5</td>\n",
       "      <td>70</td>\n",
       "      <td>1</td>\n",
       "      <td>buick skylark 320</td>\n",
       "    </tr>\n",
       "    <tr>\n",
       "      <th>2</th>\n",
       "      <td>18.0</td>\n",
       "      <td>8</td>\n",
       "      <td>318.0</td>\n",
       "      <td>150</td>\n",
       "      <td>3436</td>\n",
       "      <td>11.0</td>\n",
       "      <td>70</td>\n",
       "      <td>1</td>\n",
       "      <td>plymouth satellite</td>\n",
       "    </tr>\n",
       "    <tr>\n",
       "      <th>3</th>\n",
       "      <td>16.0</td>\n",
       "      <td>8</td>\n",
       "      <td>304.0</td>\n",
       "      <td>150</td>\n",
       "      <td>3433</td>\n",
       "      <td>12.0</td>\n",
       "      <td>70</td>\n",
       "      <td>1</td>\n",
       "      <td>amc rebel sst</td>\n",
       "    </tr>\n",
       "    <tr>\n",
       "      <th>4</th>\n",
       "      <td>17.0</td>\n",
       "      <td>8</td>\n",
       "      <td>302.0</td>\n",
       "      <td>140</td>\n",
       "      <td>3449</td>\n",
       "      <td>10.5</td>\n",
       "      <td>70</td>\n",
       "      <td>1</td>\n",
       "      <td>ford torino</td>\n",
       "    </tr>\n",
       "    <tr>\n",
       "      <th>...</th>\n",
       "      <td>...</td>\n",
       "      <td>...</td>\n",
       "      <td>...</td>\n",
       "      <td>...</td>\n",
       "      <td>...</td>\n",
       "      <td>...</td>\n",
       "      <td>...</td>\n",
       "      <td>...</td>\n",
       "      <td>...</td>\n",
       "    </tr>\n",
       "    <tr>\n",
       "      <th>393</th>\n",
       "      <td>27.0</td>\n",
       "      <td>4</td>\n",
       "      <td>140.0</td>\n",
       "      <td>86</td>\n",
       "      <td>2790</td>\n",
       "      <td>15.6</td>\n",
       "      <td>82</td>\n",
       "      <td>1</td>\n",
       "      <td>ford mustang gl</td>\n",
       "    </tr>\n",
       "    <tr>\n",
       "      <th>394</th>\n",
       "      <td>44.0</td>\n",
       "      <td>4</td>\n",
       "      <td>97.0</td>\n",
       "      <td>52</td>\n",
       "      <td>2130</td>\n",
       "      <td>24.6</td>\n",
       "      <td>82</td>\n",
       "      <td>2</td>\n",
       "      <td>vw pickup</td>\n",
       "    </tr>\n",
       "    <tr>\n",
       "      <th>395</th>\n",
       "      <td>32.0</td>\n",
       "      <td>4</td>\n",
       "      <td>135.0</td>\n",
       "      <td>84</td>\n",
       "      <td>2295</td>\n",
       "      <td>11.6</td>\n",
       "      <td>82</td>\n",
       "      <td>1</td>\n",
       "      <td>dodge rampage</td>\n",
       "    </tr>\n",
       "    <tr>\n",
       "      <th>396</th>\n",
       "      <td>28.0</td>\n",
       "      <td>4</td>\n",
       "      <td>120.0</td>\n",
       "      <td>79</td>\n",
       "      <td>2625</td>\n",
       "      <td>18.6</td>\n",
       "      <td>82</td>\n",
       "      <td>1</td>\n",
       "      <td>ford ranger</td>\n",
       "    </tr>\n",
       "    <tr>\n",
       "      <th>397</th>\n",
       "      <td>31.0</td>\n",
       "      <td>4</td>\n",
       "      <td>119.0</td>\n",
       "      <td>82</td>\n",
       "      <td>2720</td>\n",
       "      <td>19.4</td>\n",
       "      <td>82</td>\n",
       "      <td>1</td>\n",
       "      <td>chevy s-10</td>\n",
       "    </tr>\n",
       "  </tbody>\n",
       "</table>\n",
       "<p>398 rows × 9 columns</p>\n",
       "</div>"
      ],
      "text/plain": [
       "      mpg  cylinders  displacement horsepower  weight  acceleration  \\\n",
       "0    18.0          8         307.0        130    3504          12.0   \n",
       "1    15.0          8         350.0        165    3693          11.5   \n",
       "2    18.0          8         318.0        150    3436          11.0   \n",
       "3    16.0          8         304.0        150    3433          12.0   \n",
       "4    17.0          8         302.0        140    3449          10.5   \n",
       "..    ...        ...           ...        ...     ...           ...   \n",
       "393  27.0          4         140.0         86    2790          15.6   \n",
       "394  44.0          4          97.0         52    2130          24.6   \n",
       "395  32.0          4         135.0         84    2295          11.6   \n",
       "396  28.0          4         120.0         79    2625          18.6   \n",
       "397  31.0          4         119.0         82    2720          19.4   \n",
       "\n",
       "     model year  origin                   car name  \n",
       "0            70       1  chevrolet chevelle malibu  \n",
       "1            70       1          buick skylark 320  \n",
       "2            70       1         plymouth satellite  \n",
       "3            70       1              amc rebel sst  \n",
       "4            70       1                ford torino  \n",
       "..          ...     ...                        ...  \n",
       "393          82       1            ford mustang gl  \n",
       "394          82       2                  vw pickup  \n",
       "395          82       1              dodge rampage  \n",
       "396          82       1                ford ranger  \n",
       "397          82       1                 chevy s-10  \n",
       "\n",
       "[398 rows x 9 columns]"
      ]
     },
     "execution_count": 34,
     "metadata": {},
     "output_type": "execute_result"
    }
   ],
   "source": [
    "c.export(\"dataset\")"
   ]
  },
  {
   "cell_type": "code",
   "execution_count": null,
   "metadata": {},
   "outputs": [],
   "source": []
  }
 ],
 "metadata": {
  "kernelspec": {
   "display_name": "Python 3 (ipykernel)",
   "language": "python",
   "name": "python3"
  },
  "language_info": {
   "codemirror_mode": {
    "name": "ipython",
    "version": 3
   },
   "file_extension": ".py",
   "mimetype": "text/x-python",
   "name": "python",
   "nbconvert_exporter": "python",
   "pygments_lexer": "ipython3",
   "version": "3.11.7"
  }
 },
 "nbformat": 4,
 "nbformat_minor": 4
}
