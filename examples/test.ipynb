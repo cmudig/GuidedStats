{
 "cells": [
  {
   "cell_type": "code",
   "execution_count": 1,
   "metadata": {
    "tags": []
   },
   "outputs": [],
   "source": [
    "from guidedstats import GuidedStats\n",
    "import pandas as pd\n",
    "\n",
    "df = pd.read_csv(\"auto-mpg.csv\")\n",
    "a = GuidedStats(df)"
   ]
  },
  {
   "cell_type": "code",
   "execution_count": 2,
   "metadata": {
    "tags": []
   },
   "outputs": [
    {
     "data": {
      "application/vnd.jupyter.widget-view+json": {
       "model_id": "36997f87929147cba037b1a0cf725dac",
       "version_major": 2,
       "version_minor": 0
      },
      "text/plain": [
       "GuidedStats(builtinAssumptions=['Outliers Checking', 'Levene Test', 'Normality Test', 'Multicollinearity Test'…"
      ]
     },
     "execution_count": 2,
     "metadata": {},
     "output_type": "execute_result"
    }
   ],
   "source": [
    "a"
   ]
  },
  {
   "cell_type": "code",
   "execution_count": 5,
   "metadata": {
    "tags": []
   },
   "outputs": [
    {
     "data": {
      "text/plain": [
       "False"
      ]
     },
     "execution_count": 5,
     "metadata": {},
     "output_type": "execute_result"
    }
   ],
   "source": [
    "a.workflow.isObservingWorkflowInfo"
   ]
  },
  {
   "cell_type": "code",
   "execution_count": 3,
   "metadata": {
    "tags": []
   },
   "outputs": [
    {
     "data": {
      "text/plain": [
       "{'workflowName': 'Linear Regression',\n",
       " 'currentStepId': 0,\n",
       " 'steps': [{'stepId': 0,\n",
       "   'stepName': 'Load Dataset',\n",
       "   'stepType': 'LoadDatasetStep',\n",
       "   'stepExplanation': '',\n",
       "   'done': True,\n",
       "   'isProceeding': False,\n",
       "   'toExecute': False,\n",
       "   'isShown': False,\n",
       "   'config': {'dataset': 'dataset'},\n",
       "   'previousConfig': {},\n",
       "   'groupConfig': {}},\n",
       "  {'stepId': 1,\n",
       "   'stepName': 'Select Dependent Variable',\n",
       "   'stepType': 'VariableSelectionStep',\n",
       "   'stepExplanation': '',\n",
       "   'done': False,\n",
       "   'isProceeding': True,\n",
       "   'toExecute': False,\n",
       "   'isShown': True,\n",
       "   'config': {'variableName': 'dependent variable',\n",
       "    'variableNum': 1,\n",
       "    'requireVarCategory': False},\n",
       "   'previousConfig': {},\n",
       "   'groupConfig': {}},\n",
       "  {'stepId': 2,\n",
       "   'stepName': 'Check Outliers',\n",
       "   'stepType': 'AssumptionCheckingStep',\n",
       "   'stepExplanation': '',\n",
       "   'done': False,\n",
       "   'isProceeding': False,\n",
       "   'toExecute': False,\n",
       "   'isShown': False,\n",
       "   'config': {},\n",
       "   'previousConfig': {},\n",
       "   'groupConfig': {}},\n",
       "  {'stepId': 3,\n",
       "   'stepName': 'Select Independent Variables',\n",
       "   'stepType': 'VariableSelectionStep',\n",
       "   'stepExplanation': '',\n",
       "   'done': False,\n",
       "   'isProceeding': False,\n",
       "   'toExecute': False,\n",
       "   'isShown': False,\n",
       "   'config': {'metric': 'pearson',\n",
       "    'variableName': 'independent variables',\n",
       "    'variableNum': 999999,\n",
       "    'requireVarCategory': False},\n",
       "   'previousConfig': {},\n",
       "   'groupConfig': {}},\n",
       "  {'stepId': 4,\n",
       "   'stepName': 'Check Outliers',\n",
       "   'stepType': 'AssumptionCheckingStep',\n",
       "   'stepExplanation': '',\n",
       "   'done': False,\n",
       "   'isProceeding': False,\n",
       "   'toExecute': False,\n",
       "   'isShown': False,\n",
       "   'config': {},\n",
       "   'previousConfig': {},\n",
       "   'groupConfig': {}},\n",
       "  {'stepId': 5,\n",
       "   'stepName': 'Check Multicollinearity',\n",
       "   'stepType': 'AssumptionCheckingStep',\n",
       "   'stepExplanation': '',\n",
       "   'done': False,\n",
       "   'isProceeding': False,\n",
       "   'toExecute': False,\n",
       "   'isShown': False,\n",
       "   'config': {},\n",
       "   'previousConfig': {},\n",
       "   'groupConfig': {}},\n",
       "  {'stepId': 6,\n",
       "   'stepName': 'Do train test split',\n",
       "   'stepType': 'TrainTestSplitStep',\n",
       "   'stepExplanation': '',\n",
       "   'done': False,\n",
       "   'isProceeding': False,\n",
       "   'toExecute': False,\n",
       "   'isShown': False,\n",
       "   'config': {},\n",
       "   'previousConfig': {},\n",
       "   'groupConfig': {}},\n",
       "  {'stepId': 7,\n",
       "   'stepName': 'Train model',\n",
       "   'stepType': 'ModelStep',\n",
       "   'stepExplanation': '',\n",
       "   'done': False,\n",
       "   'isProceeding': False,\n",
       "   'toExecute': False,\n",
       "   'isShown': False,\n",
       "   'config': {'modelCandidates': [{'name': 'Simple Linear Regression'},\n",
       "     {'name': 'Ridge Regression', 'parameters': [{'name': 'alpha'}]},\n",
       "     {'name': 'Lasso Regression', 'parameters': [{'name': 'alpha'}]}]},\n",
       "   'previousConfig': {},\n",
       "   'groupConfig': {}},\n",
       "  {'stepId': 8,\n",
       "   'stepName': 'Evaluate the model',\n",
       "   'stepType': 'EvaluationStep',\n",
       "   'stepExplanation': '',\n",
       "   'done': False,\n",
       "   'isProceeding': False,\n",
       "   'toExecute': False,\n",
       "   'isShown': False,\n",
       "   'config': {},\n",
       "   'previousConfig': {},\n",
       "   'groupConfig': {}}],\n",
       " 'flows': []}"
      ]
     },
     "execution_count": 3,
     "metadata": {},
     "output_type": "execute_result"
    }
   ],
   "source": [
    "a.workflow.workflowInfo"
   ]
  },
  {
   "cell_type": "code",
   "execution_count": 4,
   "metadata": {
    "tags": []
   },
   "outputs": [
    {
     "ename": "TypeError",
     "evalue": "EvaluationStep.forward() takes 1 positional argument but 2 were given",
     "output_type": "error",
     "traceback": [
      "\u001b[0;31m---------------------------------------------------------------------------\u001b[0m",
      "\u001b[0;31mTypeError\u001b[0m                                 Traceback (most recent call last)",
      "Cell \u001b[0;32mIn[4], line 1\u001b[0m\n\u001b[0;32m----> 1\u001b[0m \u001b[43ma\u001b[49m\u001b[38;5;241;43m.\u001b[39;49m\u001b[43mworkflow\u001b[49m\u001b[38;5;241;43m.\u001b[39;49m\u001b[43mcurrentStep\u001b[49m\u001b[38;5;241;43m.\u001b[39;49m\u001b[43mforward\u001b[49m\u001b[43m(\u001b[49m\u001b[43ma\u001b[49m\u001b[38;5;241;43m.\u001b[39;49m\u001b[43mworkflow\u001b[49m\u001b[38;5;241;43m.\u001b[39;49m\u001b[43mcurrentStep\u001b[49m\u001b[38;5;241;43m.\u001b[39;49m\u001b[43minputs\u001b[49m\u001b[43m)\u001b[49m\n",
      "\u001b[0;31mTypeError\u001b[0m: EvaluationStep.forward() takes 1 positional argument but 2 were given"
     ]
    }
   ],
   "source": [
    "a.workflow.currentStep.forward(a.workflow.currentStep.inputs)"
   ]
  },
  {
   "cell_type": "code",
   "execution_count": 17,
   "metadata": {},
   "outputs": [
    {
     "data": {
      "text/plain": [
       "'The regression analysis revealed that the model explained 0.69 of the variance (F(3, 314) = 231.669, p = 0.000). The coefficient for const was significant (B = 42.454, SE = 2.155, 95% CI [38.215, 46.694], p < .001). The coefficient for weight was significant (B = -0.006, SE = 0.001, 95% CI [-0.007, -0.004], p < .001). The coefficient for displacement was significant (B = -0.016, SE = 0.007, 95% CI [-0.031, -0.001], p < .05). The coefficient for acceleration was significant (B = 0.058, SE = 0.111, 95% CI [-0.161, 0.278], p = 0.60). '"
      ]
     },
     "execution_count": 17,
     "metadata": {},
     "output_type": "execute_result"
    }
   ],
   "source": [
    "a.export(\"report\")"
   ]
  },
  {
   "cell_type": "code",
   "execution_count": 18,
   "metadata": {},
   "outputs": [
    {
     "data": {
      "text/html": [
       "<div>\n",
       "<style scoped>\n",
       "    .dataframe tbody tr th:only-of-type {\n",
       "        vertical-align: middle;\n",
       "    }\n",
       "\n",
       "    .dataframe tbody tr th {\n",
       "        vertical-align: top;\n",
       "    }\n",
       "\n",
       "    .dataframe thead th {\n",
       "        text-align: right;\n",
       "    }\n",
       "</style>\n",
       "<table border=\"1\" class=\"dataframe\">\n",
       "  <thead>\n",
       "    <tr style=\"text-align: right;\">\n",
       "      <th></th>\n",
       "      <th>mpg</th>\n",
       "      <th>cylinders</th>\n",
       "      <th>displacement</th>\n",
       "      <th>horsepower</th>\n",
       "      <th>weight</th>\n",
       "      <th>acceleration</th>\n",
       "      <th>model year</th>\n",
       "      <th>origin</th>\n",
       "      <th>car name</th>\n",
       "    </tr>\n",
       "  </thead>\n",
       "  <tbody>\n",
       "    <tr>\n",
       "      <th>0</th>\n",
       "      <td>18.0</td>\n",
       "      <td>8</td>\n",
       "      <td>307.0</td>\n",
       "      <td>130</td>\n",
       "      <td>3504</td>\n",
       "      <td>12.0</td>\n",
       "      <td>70</td>\n",
       "      <td>1</td>\n",
       "      <td>chevrolet chevelle malibu</td>\n",
       "    </tr>\n",
       "    <tr>\n",
       "      <th>1</th>\n",
       "      <td>15.0</td>\n",
       "      <td>8</td>\n",
       "      <td>350.0</td>\n",
       "      <td>165</td>\n",
       "      <td>3693</td>\n",
       "      <td>11.5</td>\n",
       "      <td>70</td>\n",
       "      <td>1</td>\n",
       "      <td>buick skylark 320</td>\n",
       "    </tr>\n",
       "    <tr>\n",
       "      <th>2</th>\n",
       "      <td>18.0</td>\n",
       "      <td>8</td>\n",
       "      <td>318.0</td>\n",
       "      <td>150</td>\n",
       "      <td>3436</td>\n",
       "      <td>11.0</td>\n",
       "      <td>70</td>\n",
       "      <td>1</td>\n",
       "      <td>plymouth satellite</td>\n",
       "    </tr>\n",
       "    <tr>\n",
       "      <th>3</th>\n",
       "      <td>16.0</td>\n",
       "      <td>8</td>\n",
       "      <td>304.0</td>\n",
       "      <td>150</td>\n",
       "      <td>3433</td>\n",
       "      <td>12.0</td>\n",
       "      <td>70</td>\n",
       "      <td>1</td>\n",
       "      <td>amc rebel sst</td>\n",
       "    </tr>\n",
       "    <tr>\n",
       "      <th>4</th>\n",
       "      <td>17.0</td>\n",
       "      <td>8</td>\n",
       "      <td>302.0</td>\n",
       "      <td>140</td>\n",
       "      <td>3449</td>\n",
       "      <td>10.5</td>\n",
       "      <td>70</td>\n",
       "      <td>1</td>\n",
       "      <td>ford torino</td>\n",
       "    </tr>\n",
       "    <tr>\n",
       "      <th>...</th>\n",
       "      <td>...</td>\n",
       "      <td>...</td>\n",
       "      <td>...</td>\n",
       "      <td>...</td>\n",
       "      <td>...</td>\n",
       "      <td>...</td>\n",
       "      <td>...</td>\n",
       "      <td>...</td>\n",
       "      <td>...</td>\n",
       "    </tr>\n",
       "    <tr>\n",
       "      <th>393</th>\n",
       "      <td>27.0</td>\n",
       "      <td>4</td>\n",
       "      <td>140.0</td>\n",
       "      <td>86</td>\n",
       "      <td>2790</td>\n",
       "      <td>15.6</td>\n",
       "      <td>82</td>\n",
       "      <td>1</td>\n",
       "      <td>ford mustang gl</td>\n",
       "    </tr>\n",
       "    <tr>\n",
       "      <th>394</th>\n",
       "      <td>44.0</td>\n",
       "      <td>4</td>\n",
       "      <td>97.0</td>\n",
       "      <td>52</td>\n",
       "      <td>2130</td>\n",
       "      <td>24.6</td>\n",
       "      <td>82</td>\n",
       "      <td>2</td>\n",
       "      <td>vw pickup</td>\n",
       "    </tr>\n",
       "    <tr>\n",
       "      <th>395</th>\n",
       "      <td>32.0</td>\n",
       "      <td>4</td>\n",
       "      <td>135.0</td>\n",
       "      <td>84</td>\n",
       "      <td>2295</td>\n",
       "      <td>11.6</td>\n",
       "      <td>82</td>\n",
       "      <td>1</td>\n",
       "      <td>dodge rampage</td>\n",
       "    </tr>\n",
       "    <tr>\n",
       "      <th>396</th>\n",
       "      <td>28.0</td>\n",
       "      <td>4</td>\n",
       "      <td>120.0</td>\n",
       "      <td>79</td>\n",
       "      <td>2625</td>\n",
       "      <td>18.6</td>\n",
       "      <td>82</td>\n",
       "      <td>1</td>\n",
       "      <td>ford ranger</td>\n",
       "    </tr>\n",
       "    <tr>\n",
       "      <th>397</th>\n",
       "      <td>31.0</td>\n",
       "      <td>4</td>\n",
       "      <td>119.0</td>\n",
       "      <td>82</td>\n",
       "      <td>2720</td>\n",
       "      <td>19.4</td>\n",
       "      <td>82</td>\n",
       "      <td>1</td>\n",
       "      <td>chevy s-10</td>\n",
       "    </tr>\n",
       "  </tbody>\n",
       "</table>\n",
       "<p>398 rows × 9 columns</p>\n",
       "</div>"
      ],
      "text/plain": [
       "      mpg  cylinders  displacement horsepower  weight  acceleration  \\\n",
       "0    18.0          8         307.0        130    3504          12.0   \n",
       "1    15.0          8         350.0        165    3693          11.5   \n",
       "2    18.0          8         318.0        150    3436          11.0   \n",
       "3    16.0          8         304.0        150    3433          12.0   \n",
       "4    17.0          8         302.0        140    3449          10.5   \n",
       "..    ...        ...           ...        ...     ...           ...   \n",
       "393  27.0          4         140.0         86    2790          15.6   \n",
       "394  44.0          4          97.0         52    2130          24.6   \n",
       "395  32.0          4         135.0         84    2295          11.6   \n",
       "396  28.0          4         120.0         79    2625          18.6   \n",
       "397  31.0          4         119.0         82    2720          19.4   \n",
       "\n",
       "     model year  origin                   car name  \n",
       "0            70       1  chevrolet chevelle malibu  \n",
       "1            70       1          buick skylark 320  \n",
       "2            70       1         plymouth satellite  \n",
       "3            70       1              amc rebel sst  \n",
       "4            70       1                ford torino  \n",
       "..          ...     ...                        ...  \n",
       "393          82       1            ford mustang gl  \n",
       "394          82       2                  vw pickup  \n",
       "395          82       1              dodge rampage  \n",
       "396          82       1                ford ranger  \n",
       "397          82       1                 chevy s-10  \n",
       "\n",
       "[398 rows x 9 columns]"
      ]
     },
     "execution_count": 18,
     "metadata": {},
     "output_type": "execute_result"
    }
   ],
   "source": [
    "a.export(\"dataset\")"
   ]
  },
  {
   "cell_type": "code",
   "execution_count": 19,
   "metadata": {},
   "outputs": [],
   "source": [
    "model1 = a.export(\"model\")"
   ]
  },
  {
   "cell_type": "code",
   "execution_count": 22,
   "metadata": {},
   "outputs": [
    {
     "data": {
      "text/plain": [
       "<statsmodels.regression.linear_model.OLS at 0x298668350>"
      ]
     },
     "execution_count": 22,
     "metadata": {},
     "output_type": "execute_result"
    }
   ],
   "source": [
    "model1.fittedModel"
   ]
  },
  {
   "cell_type": "code",
   "execution_count": 8,
   "metadata": {
    "scrolled": true
   },
   "outputs": [
    {
     "data": {
      "application/vnd.jupyter.widget-view+json": {
       "model_id": "10bc782be2fa4e6091a74f874de76f1f",
       "version_major": 2,
       "version_minor": 0
      },
      "text/plain": [
       "GuidedStats(builtinAssumptions=['Outliers Checking', 'Levene Test', 'Normality Test', 'Multicollinearity Test'…"
      ]
     },
     "execution_count": 8,
     "metadata": {},
     "output_type": "execute_result"
    }
   ],
   "source": [
    "b = GuidedStats(df)\n",
    "b"
   ]
  },
  {
   "cell_type": "code",
   "execution_count": 9,
   "metadata": {},
   "outputs": [],
   "source": [
    "model2 = b.export(\"model\")"
   ]
  },
  {
   "cell_type": "code",
   "execution_count": 20,
   "metadata": {},
   "outputs": [
    {
     "data": {
      "text/html": [
       "<style type=\"text/css\">\n",
       "#T_0c0c4 th {\n",
       "  font-size: 12pt;\n",
       "  text-align: center;\n",
       "  border-style: solid;\n",
       "  border-width: 1px;\n",
       "}\n",
       "#T_0c0c4 td {\n",
       "  text-align: right;\n",
       "  border-style: solid;\n",
       "  border-width: 1px;\n",
       "}\n",
       "#T_0c0c4_row0_col0, #T_0c0c4_row1_col0, #T_0c0c4_row2_col0, #T_0c0c4_row3_col0, #T_0c0c4_row4_col0, #T_0c0c4_row5_col0, #T_0c0c4_row6_col0, #T_0c0c4_row7_col0, #T_0c0c4_row8_col0, #T_0c0c4_row9_col0, #T_0c0c4_row10_col0, #T_0c0c4_row11_col0 {\n",
       "  text-align: left;\n",
       "  font-weight: bold;\n",
       "}\n",
       "#T_0c0c4_row0_col1, #T_0c0c4_row0_col2, #T_0c0c4_row1_col1, #T_0c0c4_row1_col2, #T_0c0c4_row2_col1, #T_0c0c4_row2_col2, #T_0c0c4_row3_col1, #T_0c0c4_row3_col2, #T_0c0c4_row4_col1, #T_0c0c4_row4_col2, #T_0c0c4_row5_col1, #T_0c0c4_row5_col2, #T_0c0c4_row6_col1, #T_0c0c4_row6_col2, #T_0c0c4_row7_col1, #T_0c0c4_row8_col1, #T_0c0c4_row8_col2, #T_0c0c4_row9_col1, #T_0c0c4_row9_col2 {\n",
       "  text-align: right;\n",
       "}\n",
       "#T_0c0c4_row7_col2, #T_0c0c4_row10_col1, #T_0c0c4_row10_col2, #T_0c0c4_row11_col1, #T_0c0c4_row11_col2 {\n",
       "  font-weight: bold;\n",
       "  text-align: right;\n",
       "}\n",
       "</style>\n",
       "<table id=\"T_0c0c4\">\n",
       "  <caption>Model Comparison</caption>\n",
       "  <thead>\n",
       "    <tr>\n",
       "      <th id=\"T_0c0c4_level0_col0\" class=\"col_heading level0 col0\" >Metric</th>\n",
       "      <th id=\"T_0c0c4_level0_col1\" class=\"col_heading level0 col1\" >Model 1</th>\n",
       "      <th id=\"T_0c0c4_level0_col2\" class=\"col_heading level0 col2\" >Model 2</th>\n",
       "    </tr>\n",
       "  </thead>\n",
       "  <tbody>\n",
       "    <tr>\n",
       "      <td id=\"T_0c0c4_row0_col0\" class=\"data row0 col0\" >R-squared</td>\n",
       "      <td id=\"T_0c0c4_row0_col1\" class=\"data row0 col1\" >0.6888</td>\n",
       "      <td id=\"T_0c0c4_row0_col2\" class=\"data row0 col2\" >0.8652</td>\n",
       "    </tr>\n",
       "    <tr>\n",
       "      <td id=\"T_0c0c4_row1_col0\" class=\"data row1 col0\" >Adjusted R-squared</td>\n",
       "      <td id=\"T_0c0c4_row1_col1\" class=\"data row1 col1\" >0.6858</td>\n",
       "      <td id=\"T_0c0c4_row1_col2\" class=\"data row1 col2\" >0.8639</td>\n",
       "    </tr>\n",
       "    <tr>\n",
       "      <td id=\"T_0c0c4_row2_col0\" class=\"data row2 col0\" >F-statistic</td>\n",
       "      <td id=\"T_0c0c4_row2_col1\" class=\"data row2 col1\" >231.6694</td>\n",
       "      <td id=\"T_0c0c4_row2_col2\" class=\"data row2 col2\" >671.9724</td>\n",
       "    </tr>\n",
       "    <tr>\n",
       "      <td id=\"T_0c0c4_row3_col0\" class=\"data row3 col0\" >Prob (F-statistic)</td>\n",
       "      <td id=\"T_0c0c4_row3_col1\" class=\"data row3 col1\" >0.0000</td>\n",
       "      <td id=\"T_0c0c4_row3_col2\" class=\"data row3 col2\" >0.0000</td>\n",
       "    </tr>\n",
       "    <tr>\n",
       "      <td id=\"T_0c0c4_row4_col0\" class=\"data row4 col0\" >Log-Likelihood</td>\n",
       "      <td id=\"T_0c0c4_row4_col1\" class=\"data row4 col1\" >-913.6175</td>\n",
       "      <td id=\"T_0c0c4_row4_col2\" class=\"data row4 col2\" >233.2715</td>\n",
       "    </tr>\n",
       "    <tr>\n",
       "      <td id=\"T_0c0c4_row5_col0\" class=\"data row5 col0\" >AIC</td>\n",
       "      <td id=\"T_0c0c4_row5_col1\" class=\"data row5 col1\" >1835.2351</td>\n",
       "      <td id=\"T_0c0c4_row5_col2\" class=\"data row5 col2\" >-458.5429</td>\n",
       "    </tr>\n",
       "    <tr>\n",
       "      <td id=\"T_0c0c4_row6_col0\" class=\"data row6 col0\" >BIC</td>\n",
       "      <td id=\"T_0c0c4_row6_col1\" class=\"data row6 col1\" >1850.2833</td>\n",
       "      <td id=\"T_0c0c4_row6_col2\" class=\"data row6 col2\" >-443.4947</td>\n",
       "    </tr>\n",
       "    <tr>\n",
       "      <td id=\"T_0c0c4_row7_col0\" class=\"data row7 col0\" >Coefficient (model year)</td>\n",
       "      <td id=\"T_0c0c4_row7_col1\" class=\"data row7 col1\" ></td>\n",
       "      <td id=\"T_0c0c4_row7_col2\" class=\"data row7 col2\" >0.0288***</td>\n",
       "    </tr>\n",
       "    <tr>\n",
       "      <td id=\"T_0c0c4_row8_col0\" class=\"data row8 col0\" >Coefficient (acceleration)</td>\n",
       "      <td id=\"T_0c0c4_row8_col1\" class=\"data row8 col1\" >0.0584</td>\n",
       "      <td id=\"T_0c0c4_row8_col2\" class=\"data row8 col2\" ></td>\n",
       "    </tr>\n",
       "    <tr>\n",
       "      <td id=\"T_0c0c4_row9_col0\" class=\"data row9 col0\" >Coefficient (displacement)</td>\n",
       "      <td id=\"T_0c0c4_row9_col1\" class=\"data row9 col1\" >-0.0158*</td>\n",
       "      <td id=\"T_0c0c4_row9_col2\" class=\"data row9 col2\" >-0.0002</td>\n",
       "    </tr>\n",
       "    <tr>\n",
       "      <td id=\"T_0c0c4_row10_col0\" class=\"data row10 col0\" >Coefficient (const)</td>\n",
       "      <td id=\"T_0c0c4_row10_col1\" class=\"data row10 col1\" >42.4542***</td>\n",
       "      <td id=\"T_0c0c4_row10_col2\" class=\"data row10 col2\" >1.8092***</td>\n",
       "    </tr>\n",
       "    <tr>\n",
       "      <td id=\"T_0c0c4_row11_col0\" class=\"data row11 col0\" >Coefficient (weight)</td>\n",
       "      <td id=\"T_0c0c4_row11_col1\" class=\"data row11 col1\" >-0.0057***</td>\n",
       "      <td id=\"T_0c0c4_row11_col2\" class=\"data row11 col2\" >-0.0003***</td>\n",
       "    </tr>\n",
       "  </tbody>\n",
       "</table>\n"
      ],
      "text/plain": [
       "<IPython.core.display.HTML object>"
      ]
     },
     "metadata": {},
     "output_type": "display_data"
    }
   ],
   "source": [
    "model1.compare(model2)"
   ]
  },
  {
   "cell_type": "code",
   "execution_count": 14,
   "metadata": {},
   "outputs": [
    {
     "data": {
      "text/html": [
       "<table class=\"simpletable\">\n",
       "<caption>OLS Regression Results</caption>\n",
       "<tr>\n",
       "  <th>Dep. Variable:</th>           <td>mpg</td>       <th>  R-squared:         </th> <td>   0.701</td>\n",
       "</tr>\n",
       "<tr>\n",
       "  <th>Model:</th>                   <td>OLS</td>       <th>  Adj. R-squared:    </th> <td>   0.698</td>\n",
       "</tr>\n",
       "<tr>\n",
       "  <th>Method:</th>             <td>Least Squares</td>  <th>  F-statistic:       </th> <td>   244.8</td>\n",
       "</tr>\n",
       "<tr>\n",
       "  <th>Date:</th>             <td>Mon, 29 Jan 2024</td> <th>  Prob (F-statistic):</th> <td>7.25e-82</td>\n",
       "</tr>\n",
       "<tr>\n",
       "  <th>Time:</th>                 <td>12:56:03</td>     <th>  Log-Likelihood:    </th> <td> -908.77</td>\n",
       "</tr>\n",
       "<tr>\n",
       "  <th>No. Observations:</th>      <td>   318</td>      <th>  AIC:               </th> <td>   1826.</td>\n",
       "</tr>\n",
       "<tr>\n",
       "  <th>Df Residuals:</th>          <td>   314</td>      <th>  BIC:               </th> <td>   1841.</td>\n",
       "</tr>\n",
       "<tr>\n",
       "  <th>Df Model:</th>              <td>     3</td>      <th>                     </th>     <td> </td>   \n",
       "</tr>\n",
       "<tr>\n",
       "  <th>Covariance Type:</th>      <td>nonrobust</td>    <th>                     </th>     <td> </td>   \n",
       "</tr>\n",
       "</table>\n",
       "<table class=\"simpletable\">\n",
       "<tr>\n",
       "        <td></td>          <th>coef</th>     <th>std err</th>      <th>t</th>      <th>P>|t|</th>  <th>[0.025</th>    <th>0.975]</th>  \n",
       "</tr>\n",
       "<tr>\n",
       "  <th>const</th>        <td>   41.3583</td> <td>    2.148</td> <td>   19.251</td> <td> 0.000</td> <td>   37.131</td> <td>   45.585</td>\n",
       "</tr>\n",
       "<tr>\n",
       "  <th>weight</th>       <td>   -0.0065</td> <td>    0.001</td> <td>  -10.160</td> <td> 0.000</td> <td>   -0.008</td> <td>   -0.005</td>\n",
       "</tr>\n",
       "<tr>\n",
       "  <th>cylinders</th>    <td>   -0.5084</td> <td>    0.334</td> <td>   -1.523</td> <td> 0.129</td> <td>   -1.165</td> <td>    0.149</td>\n",
       "</tr>\n",
       "<tr>\n",
       "  <th>acceleration</th> <td>    0.2635</td> <td>    0.099</td> <td>    2.662</td> <td> 0.008</td> <td>    0.069</td> <td>    0.458</td>\n",
       "</tr>\n",
       "</table>\n",
       "<table class=\"simpletable\">\n",
       "<tr>\n",
       "  <th>Omnibus:</th>       <td>23.324</td> <th>  Durbin-Watson:     </th> <td>   2.150</td>\n",
       "</tr>\n",
       "<tr>\n",
       "  <th>Prob(Omnibus):</th> <td> 0.000</td> <th>  Jarque-Bera (JB):  </th> <td>  28.168</td>\n",
       "</tr>\n",
       "<tr>\n",
       "  <th>Skew:</th>          <td> 0.598</td> <th>  Prob(JB):          </th> <td>7.65e-07</td>\n",
       "</tr>\n",
       "<tr>\n",
       "  <th>Kurtosis:</th>      <td> 3.834</td> <th>  Cond. No.          </th> <td>2.77e+04</td>\n",
       "</tr>\n",
       "</table><br/><br/>Notes:<br/>[1] Standard Errors assume that the covariance matrix of the errors is correctly specified.<br/>[2] The condition number is large, 2.77e+04. This might indicate that there are<br/>strong multicollinearity or other numerical problems."
      ],
      "text/latex": [
       "\\begin{center}\n",
       "\\begin{tabular}{lclc}\n",
       "\\toprule\n",
       "\\textbf{Dep. Variable:}    &       mpg        & \\textbf{  R-squared:         } &     0.701   \\\\\n",
       "\\textbf{Model:}            &       OLS        & \\textbf{  Adj. R-squared:    } &     0.698   \\\\\n",
       "\\textbf{Method:}           &  Least Squares   & \\textbf{  F-statistic:       } &     244.8   \\\\\n",
       "\\textbf{Date:}             & Mon, 29 Jan 2024 & \\textbf{  Prob (F-statistic):} &  7.25e-82   \\\\\n",
       "\\textbf{Time:}             &     12:56:03     & \\textbf{  Log-Likelihood:    } &   -908.77   \\\\\n",
       "\\textbf{No. Observations:} &         318      & \\textbf{  AIC:               } &     1826.   \\\\\n",
       "\\textbf{Df Residuals:}     &         314      & \\textbf{  BIC:               } &     1841.   \\\\\n",
       "\\textbf{Df Model:}         &           3      & \\textbf{                     } &             \\\\\n",
       "\\textbf{Covariance Type:}  &    nonrobust     & \\textbf{                     } &             \\\\\n",
       "\\bottomrule\n",
       "\\end{tabular}\n",
       "\\begin{tabular}{lcccccc}\n",
       "                      & \\textbf{coef} & \\textbf{std err} & \\textbf{t} & \\textbf{P$> |$t$|$} & \\textbf{[0.025} & \\textbf{0.975]}  \\\\\n",
       "\\midrule\n",
       "\\textbf{const}        &      41.3583  &        2.148     &    19.251  &         0.000        &       37.131    &       45.585     \\\\\n",
       "\\textbf{weight}       &      -0.0065  &        0.001     &   -10.160  &         0.000        &       -0.008    &       -0.005     \\\\\n",
       "\\textbf{cylinders}    &      -0.5084  &        0.334     &    -1.523  &         0.129        &       -1.165    &        0.149     \\\\\n",
       "\\textbf{acceleration} &       0.2635  &        0.099     &     2.662  &         0.008        &        0.069    &        0.458     \\\\\n",
       "\\bottomrule\n",
       "\\end{tabular}\n",
       "\\begin{tabular}{lclc}\n",
       "\\textbf{Omnibus:}       & 23.324 & \\textbf{  Durbin-Watson:     } &    2.150  \\\\\n",
       "\\textbf{Prob(Omnibus):} &  0.000 & \\textbf{  Jarque-Bera (JB):  } &   28.168  \\\\\n",
       "\\textbf{Skew:}          &  0.598 & \\textbf{  Prob(JB):          } & 7.65e-07  \\\\\n",
       "\\textbf{Kurtosis:}      &  3.834 & \\textbf{  Cond. No.          } & 2.77e+04  \\\\\n",
       "\\bottomrule\n",
       "\\end{tabular}\n",
       "%\\caption{OLS Regression Results}\n",
       "\\end{center}\n",
       "\n",
       "Notes: \\newline\n",
       " [1] Standard Errors assume that the covariance matrix of the errors is correctly specified. \\newline\n",
       " [2] The condition number is large, 2.77e+04. This might indicate that there are \\newline\n",
       " strong multicollinearity or other numerical problems."
      ],
      "text/plain": [
       "<class 'statsmodels.iolib.summary.Summary'>\n",
       "\"\"\"\n",
       "                            OLS Regression Results                            \n",
       "==============================================================================\n",
       "Dep. Variable:                    mpg   R-squared:                       0.701\n",
       "Model:                            OLS   Adj. R-squared:                  0.698\n",
       "Method:                 Least Squares   F-statistic:                     244.8\n",
       "Date:                Mon, 29 Jan 2024   Prob (F-statistic):           7.25e-82\n",
       "Time:                        12:56:03   Log-Likelihood:                -908.77\n",
       "No. Observations:                 318   AIC:                             1826.\n",
       "Df Residuals:                     314   BIC:                             1841.\n",
       "Df Model:                           3                                         \n",
       "Covariance Type:            nonrobust                                         \n",
       "================================================================================\n",
       "                   coef    std err          t      P>|t|      [0.025      0.975]\n",
       "--------------------------------------------------------------------------------\n",
       "const           41.3583      2.148     19.251      0.000      37.131      45.585\n",
       "weight          -0.0065      0.001    -10.160      0.000      -0.008      -0.005\n",
       "cylinders       -0.5084      0.334     -1.523      0.129      -1.165       0.149\n",
       "acceleration     0.2635      0.099      2.662      0.008       0.069       0.458\n",
       "==============================================================================\n",
       "Omnibus:                       23.324   Durbin-Watson:                   2.150\n",
       "Prob(Omnibus):                  0.000   Jarque-Bera (JB):               28.168\n",
       "Skew:                           0.598   Prob(JB):                     7.65e-07\n",
       "Kurtosis:                       3.834   Cond. No.                     2.77e+04\n",
       "==============================================================================\n",
       "\n",
       "Notes:\n",
       "[1] Standard Errors assume that the covariance matrix of the errors is correctly specified.\n",
       "[2] The condition number is large, 2.77e+04. This might indicate that there are\n",
       "strong multicollinearity or other numerical problems.\n",
       "\"\"\""
      ]
     },
     "execution_count": 14,
     "metadata": {},
     "output_type": "execute_result"
    }
   ],
   "source": [
    "model1._results.summary()"
   ]
  },
  {
   "cell_type": "code",
   "execution_count": 26,
   "metadata": {},
   "outputs": [
    {
     "data": {
      "application/vnd.jupyter.widget-view+json": {
       "model_id": "b391f6b6c41c4c84b4c4c275bfe142fd",
       "version_major": 2,
       "version_minor": 0
      },
      "text/plain": [
       "GuidedStats(builtinAssumptions=['Outliers Checking', 'Levene Test', 'Normality Test', 'Multicollinearity Test'…"
      ]
     },
     "execution_count": 26,
     "metadata": {},
     "output_type": "execute_result"
    }
   ],
   "source": [
    "df2 = pd.read_csv(\"auto-mpg.csv\")\n",
    "c = GuidedStats(df2)\n",
    "c"
   ]
  },
  {
   "cell_type": "code",
   "execution_count": 50,
   "metadata": {},
   "outputs": [],
   "source": [
    "c.workflow.callStepForward()"
   ]
  },
  {
   "cell_type": "code",
   "execution_count": 51,
   "metadata": {},
   "outputs": [
    {
     "data": {
      "text/plain": [
       "<guidedstats.step.ModelStep at 0x29b691f90>"
      ]
     },
     "execution_count": 51,
     "metadata": {},
     "output_type": "execute_result"
    }
   ],
   "source": [
    "c.workflow.currentStep"
   ]
  },
  {
   "cell_type": "code",
   "execution_count": 32,
   "metadata": {},
   "outputs": [
    {
     "data": {
      "text/plain": [
       "<guidedstats.model.ModelWrapper at 0x2995b4450>"
      ]
     },
     "execution_count": 32,
     "metadata": {},
     "output_type": "execute_result"
    }
   ],
   "source": [
    "c.export(\"model\")"
   ]
  },
  {
   "cell_type": "code",
   "execution_count": 33,
   "metadata": {},
   "outputs": [
    {
     "data": {
      "text/plain": [
       "'A two independent sample t-test was conducted to compare the groups. The results indicated that the difference between the groups was statistically significant (t(317.0) = -8.915, p < .001). The mean (SD) for group 1 was 20.08 (6.40) and for group 2 was 27.89 (6.72).'"
      ]
     },
     "execution_count": 33,
     "metadata": {},
     "output_type": "execute_result"
    }
   ],
   "source": [
    "c.export(\"report\")"
   ]
  },
  {
   "cell_type": "code",
   "execution_count": 34,
   "metadata": {},
   "outputs": [
    {
     "data": {
      "text/html": [
       "<div>\n",
       "<style scoped>\n",
       "    .dataframe tbody tr th:only-of-type {\n",
       "        vertical-align: middle;\n",
       "    }\n",
       "\n",
       "    .dataframe tbody tr th {\n",
       "        vertical-align: top;\n",
       "    }\n",
       "\n",
       "    .dataframe thead th {\n",
       "        text-align: right;\n",
       "    }\n",
       "</style>\n",
       "<table border=\"1\" class=\"dataframe\">\n",
       "  <thead>\n",
       "    <tr style=\"text-align: right;\">\n",
       "      <th></th>\n",
       "      <th>mpg</th>\n",
       "      <th>cylinders</th>\n",
       "      <th>displacement</th>\n",
       "      <th>horsepower</th>\n",
       "      <th>weight</th>\n",
       "      <th>acceleration</th>\n",
       "      <th>model year</th>\n",
       "      <th>origin</th>\n",
       "      <th>car name</th>\n",
       "    </tr>\n",
       "  </thead>\n",
       "  <tbody>\n",
       "    <tr>\n",
       "      <th>0</th>\n",
       "      <td>18.0</td>\n",
       "      <td>8</td>\n",
       "      <td>307.0</td>\n",
       "      <td>130</td>\n",
       "      <td>3504</td>\n",
       "      <td>12.0</td>\n",
       "      <td>70</td>\n",
       "      <td>1</td>\n",
       "      <td>chevrolet chevelle malibu</td>\n",
       "    </tr>\n",
       "    <tr>\n",
       "      <th>1</th>\n",
       "      <td>15.0</td>\n",
       "      <td>8</td>\n",
       "      <td>350.0</td>\n",
       "      <td>165</td>\n",
       "      <td>3693</td>\n",
       "      <td>11.5</td>\n",
       "      <td>70</td>\n",
       "      <td>1</td>\n",
       "      <td>buick skylark 320</td>\n",
       "    </tr>\n",
       "    <tr>\n",
       "      <th>2</th>\n",
       "      <td>18.0</td>\n",
       "      <td>8</td>\n",
       "      <td>318.0</td>\n",
       "      <td>150</td>\n",
       "      <td>3436</td>\n",
       "      <td>11.0</td>\n",
       "      <td>70</td>\n",
       "      <td>1</td>\n",
       "      <td>plymouth satellite</td>\n",
       "    </tr>\n",
       "    <tr>\n",
       "      <th>3</th>\n",
       "      <td>16.0</td>\n",
       "      <td>8</td>\n",
       "      <td>304.0</td>\n",
       "      <td>150</td>\n",
       "      <td>3433</td>\n",
       "      <td>12.0</td>\n",
       "      <td>70</td>\n",
       "      <td>1</td>\n",
       "      <td>amc rebel sst</td>\n",
       "    </tr>\n",
       "    <tr>\n",
       "      <th>4</th>\n",
       "      <td>17.0</td>\n",
       "      <td>8</td>\n",
       "      <td>302.0</td>\n",
       "      <td>140</td>\n",
       "      <td>3449</td>\n",
       "      <td>10.5</td>\n",
       "      <td>70</td>\n",
       "      <td>1</td>\n",
       "      <td>ford torino</td>\n",
       "    </tr>\n",
       "    <tr>\n",
       "      <th>...</th>\n",
       "      <td>...</td>\n",
       "      <td>...</td>\n",
       "      <td>...</td>\n",
       "      <td>...</td>\n",
       "      <td>...</td>\n",
       "      <td>...</td>\n",
       "      <td>...</td>\n",
       "      <td>...</td>\n",
       "      <td>...</td>\n",
       "    </tr>\n",
       "    <tr>\n",
       "      <th>393</th>\n",
       "      <td>27.0</td>\n",
       "      <td>4</td>\n",
       "      <td>140.0</td>\n",
       "      <td>86</td>\n",
       "      <td>2790</td>\n",
       "      <td>15.6</td>\n",
       "      <td>82</td>\n",
       "      <td>1</td>\n",
       "      <td>ford mustang gl</td>\n",
       "    </tr>\n",
       "    <tr>\n",
       "      <th>394</th>\n",
       "      <td>44.0</td>\n",
       "      <td>4</td>\n",
       "      <td>97.0</td>\n",
       "      <td>52</td>\n",
       "      <td>2130</td>\n",
       "      <td>24.6</td>\n",
       "      <td>82</td>\n",
       "      <td>2</td>\n",
       "      <td>vw pickup</td>\n",
       "    </tr>\n",
       "    <tr>\n",
       "      <th>395</th>\n",
       "      <td>32.0</td>\n",
       "      <td>4</td>\n",
       "      <td>135.0</td>\n",
       "      <td>84</td>\n",
       "      <td>2295</td>\n",
       "      <td>11.6</td>\n",
       "      <td>82</td>\n",
       "      <td>1</td>\n",
       "      <td>dodge rampage</td>\n",
       "    </tr>\n",
       "    <tr>\n",
       "      <th>396</th>\n",
       "      <td>28.0</td>\n",
       "      <td>4</td>\n",
       "      <td>120.0</td>\n",
       "      <td>79</td>\n",
       "      <td>2625</td>\n",
       "      <td>18.6</td>\n",
       "      <td>82</td>\n",
       "      <td>1</td>\n",
       "      <td>ford ranger</td>\n",
       "    </tr>\n",
       "    <tr>\n",
       "      <th>397</th>\n",
       "      <td>31.0</td>\n",
       "      <td>4</td>\n",
       "      <td>119.0</td>\n",
       "      <td>82</td>\n",
       "      <td>2720</td>\n",
       "      <td>19.4</td>\n",
       "      <td>82</td>\n",
       "      <td>1</td>\n",
       "      <td>chevy s-10</td>\n",
       "    </tr>\n",
       "  </tbody>\n",
       "</table>\n",
       "<p>398 rows × 9 columns</p>\n",
       "</div>"
      ],
      "text/plain": [
       "      mpg  cylinders  displacement horsepower  weight  acceleration  \\\n",
       "0    18.0          8         307.0        130    3504          12.0   \n",
       "1    15.0          8         350.0        165    3693          11.5   \n",
       "2    18.0          8         318.0        150    3436          11.0   \n",
       "3    16.0          8         304.0        150    3433          12.0   \n",
       "4    17.0          8         302.0        140    3449          10.5   \n",
       "..    ...        ...           ...        ...     ...           ...   \n",
       "393  27.0          4         140.0         86    2790          15.6   \n",
       "394  44.0          4          97.0         52    2130          24.6   \n",
       "395  32.0          4         135.0         84    2295          11.6   \n",
       "396  28.0          4         120.0         79    2625          18.6   \n",
       "397  31.0          4         119.0         82    2720          19.4   \n",
       "\n",
       "     model year  origin                   car name  \n",
       "0            70       1  chevrolet chevelle malibu  \n",
       "1            70       1          buick skylark 320  \n",
       "2            70       1         plymouth satellite  \n",
       "3            70       1              amc rebel sst  \n",
       "4            70       1                ford torino  \n",
       "..          ...     ...                        ...  \n",
       "393          82       1            ford mustang gl  \n",
       "394          82       2                  vw pickup  \n",
       "395          82       1              dodge rampage  \n",
       "396          82       1                ford ranger  \n",
       "397          82       1                 chevy s-10  \n",
       "\n",
       "[398 rows x 9 columns]"
      ]
     },
     "execution_count": 34,
     "metadata": {},
     "output_type": "execute_result"
    }
   ],
   "source": [
    "c.export(\"dataset\")"
   ]
  },
  {
   "cell_type": "code",
   "execution_count": null,
   "metadata": {},
   "outputs": [],
   "source": []
  }
 ],
 "metadata": {
  "kernelspec": {
   "display_name": "Python 3 (ipykernel)",
   "language": "python",
   "name": "python3"
  },
  "language_info": {
   "codemirror_mode": {
    "name": "ipython",
    "version": 3
   },
   "file_extension": ".py",
   "mimetype": "text/x-python",
   "name": "python",
   "nbconvert_exporter": "python",
   "pygments_lexer": "ipython3",
   "version": "3.11.7"
  }
 },
 "nbformat": 4,
 "nbformat_minor": 4
}
