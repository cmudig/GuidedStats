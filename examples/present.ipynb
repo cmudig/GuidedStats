{
 "cells": [
  {
   "cell_type": "code",
   "execution_count": 1,
   "id": "59fdf54f-04f6-4c68-8705-1e2f488f9b1f",
   "metadata": {
    "tags": []
   },
   "outputs": [
    {
     "data": {
      "application/vnd.jupyter.widget-view+json": {
       "model_id": "0699d8dbc261458c87c444af6d3d81a5",
       "version_major": 2,
       "version_minor": 0
      },
      "text/plain": [
       "GuidedStats(builtinAssumptions=['Outliers Checking', 'Levene Test', 'Normality Test', 'Multicollinearity Test'…"
      ]
     },
     "execution_count": 1,
     "metadata": {},
     "output_type": "execute_result"
    }
   ],
   "source": [
    "from guidedstats import GuidedStats\n",
    "import pandas as pd\n",
    "\n",
    "df = pd.read_csv(\"california_housing.csv\")\n",
    "gs = GuidedStats(df)\n",
    "gs"
   ]
  },
  {
   "cell_type": "code",
   "execution_count": null,
   "id": "af5fccab-6483-48a2-a8a5-d655156ebae5",
   "metadata": {},
   "outputs": [],
   "source": [
    "import matplotlib.pyplot as plt\n",
    "\n",
    "df = gs.export(\"dataset\")\n",
    "\n",
    "# Calculate descriptive statistics\n",
    "statistics = df[\"median_income\"].describe()\n",
    "print(statistics)\n",
    "\n",
    "# Create a histogram\n",
    "plt.hist(df[\"median_income\"], bins=20, color='skyblue', edgecolor='black')\n",
    "plt.xlabel(\"Values\")\n",
    "plt.ylabel(\"Frequency\")\n",
    "plt.title(\"Histogram\")\n",
    "plt.show()"
   ]
  },
  {
   "cell_type": "code",
   "execution_count": null,
   "id": "0316aeb3-4b55-470e-b5bb-70e5cbfab59a",
   "metadata": {},
   "outputs": [],
   "source": [
    "import matplotlib.pyplot as plt\n",
    "\n",
    "df = gs.export(\"dataset\")\n",
    "\n",
    "# Calculate descriptive statistics\n",
    "statistics = df[\"median_house_value\"].describe()\n",
    "print(statistics)\n",
    "\n",
    "# Create a histogram\n",
    "plt.hist(df[\"median_house_value\"], bins=20, color='skyblue', edgecolor='black')\n",
    "plt.xlabel(\"Values\")\n",
    "plt.ylabel(\"Frequency\")\n",
    "plt.title(\"Histogram\")\n",
    "plt.show()"
   ]
  },
  {
   "cell_type": "code",
   "execution_count": 2,
   "id": "cdc898a5-7754-41d7-a29e-dec6a2a5fd85",
   "metadata": {
    "tags": []
   },
   "outputs": [],
   "source": [
    "dataset = gs.export(\"dataset\")\n",
    "dataset = dataset[dataset[\"median_house_value\"] != 500001]\n",
    "gs._import(\"dataset\",dataset)"
   ]
  },
  {
   "cell_type": "code",
   "execution_count": 4,
   "id": "76978aa5-3ce0-4f03-abe6-0fab7b5ffaf1",
   "metadata": {
    "tags": []
   },
   "outputs": [],
   "source": [
    "dataset = gs.export(\"dataset\")\n",
    "dataset = dataset.dropna()\n",
    "gs._import(\"dataset\",dataset)"
   ]
  },
  {
   "cell_type": "code",
   "execution_count": 3,
   "id": "1da6cd45-c5ca-4f50-a682-f9e69186f057",
   "metadata": {
    "tags": []
   },
   "outputs": [],
   "source": [
    "dataset = gs.export(\"dataset\")\n",
    "dataset[\"avg_rooms\"] = dataset[\"total_rooms\"]/dataset[\"population\"]\n",
    "dataset[\"avg_bedrooms\"] = dataset[\"total_bedrooms\"]/dataset[\"population\"]\n",
    "gs._import(\"dataset\",dataset)"
   ]
  },
  {
   "cell_type": "code",
   "execution_count": 12,
   "id": "88eb75dc-a185-4997-840f-17bc9d2f6c33",
   "metadata": {
    "tags": []
   },
   "outputs": [
    {
     "data": {
      "application/vnd.jupyter.widget-view+json": {
       "model_id": "2da5c7b13c5543db83969354e91084bb",
       "version_major": 2,
       "version_minor": 0
      },
      "text/plain": [
       "GuidedStats(builtinAssumptions=['Outliers Checking', 'Levene Test', 'Normality Test', 'Multicollinearity Test'…"
      ]
     },
     "execution_count": 12,
     "metadata": {},
     "output_type": "execute_result"
    }
   ],
   "source": [
    "from guidedstats import GuidedStats\n",
    "import pandas as pd\n",
    "\n",
    "df = pd.read_csv(\"auto-mpg.csv\")\n",
    "gs = GuidedStats(df)\n",
    "gs"
   ]
  },
  {
   "cell_type": "code",
   "execution_count": 13,
   "id": "5d648a82-a3ea-412e-b2d6-dbc4e69abded",
   "metadata": {},
   "outputs": [],
   "source": [
    "gs.export(\"code\")"
   ]
  },
  {
   "cell_type": "code",
   "execution_count": null,
   "id": "92852e53-7060-4693-b75e-a7e83392b0ba",
   "metadata": {},
   "outputs": [],
   "source": [
    "# Step 1: Load Dataset\n",
    "import pandas as pd\n",
    "\n",
    "# Step 2: Select Independent Variable\n",
    "Y = df[['mpg']]\n",
    "\n",
    "# Step 3: Check Outliers\n",
    "# Function to check the assumption\n",
    "def outlier(X, Y = None, *args, **kwargs):\n",
    "    import numpy as np\n",
    "    X = X.to_numpy().reshape((-1))\n",
    "    previousX = kwargs.get(\"previousX\", None)\n",
    "    if previousX is not None:\n",
    "        previousX = previousX.to_numpy().reshape((-1))\n",
    "        Q1 = np.percentile(previousX, 25)\n",
    "        Q3 = np.percentile(previousX, 75)\n",
    "        IQR = Q3 - Q1\n",
    "    else:\n",
    "        Q1 = np.percentile(X, 25)\n",
    "        Q3 = np.percentile(X, 75)\n",
    "        IQR = Q3 - Q1\n",
    "\n",
    "    # Define the outlier thresholds\n",
    "    lower_threshold = Q1 - 1.5 * IQR\n",
    "    upper_threshold = Q3 + 1.5 * IQR\n",
    "\n",
    "    count = 0\n",
    "    for item in X:\n",
    "        if item < lower_threshold or item > upper_threshold:\n",
    "            count += 1\n",
    "    return {\n",
    "        \"stats\": count,\n",
    "        \"count\": count,\n",
    "        \"extraStats\":{\n",
    "            \"lower_threshold\": lower_threshold,\n",
    "            \"upper_threshold\": upper_threshold,\n",
    "        }\n",
    "    }\n",
    "for col in Y.columns:\n",
    "    outputs = outlier(X = Y[[col]])\n",
    "    print('{stats} outlier(s) fall outside of the \"interquartile range\" (IQR)'.format(**outputs))\n"
   ]
  },
  {
   "cell_type": "code",
   "execution_count": null,
   "id": "5ddb889a-42d5-40f3-8669-cc73c840537b",
   "metadata": {},
   "outputs": [],
   "source": []
  }
 ],
 "metadata": {
  "kernelspec": {
   "display_name": "Python 3 (ipykernel)",
   "language": "python",
   "name": "python3"
  },
  "language_info": {
   "codemirror_mode": {
    "name": "ipython",
    "version": 3
   },
   "file_extension": ".py",
   "mimetype": "text/x-python",
   "name": "python",
   "nbconvert_exporter": "python",
   "pygments_lexer": "ipython3",
   "version": "3.11.7"
  }
 },
 "nbformat": 4,
 "nbformat_minor": 5
}
